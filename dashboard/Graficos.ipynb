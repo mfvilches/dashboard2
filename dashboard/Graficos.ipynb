{
 "cells": [
  {
   "cell_type": "code",
   "execution_count": 2,
   "metadata": {},
   "outputs": [
    {
     "name": "stdout",
     "output_type": "stream",
     "text": [
      "<class 'pandas.core.frame.DataFrame'>\n",
      "RangeIndex: 4488935 entries, 0 to 4488934\n",
      "Data columns (total 15 columns):\n",
      " #   Column                    Dtype \n",
      "---  ------                    ----- \n",
      " 0   idestablecimiento         object\n",
      " 1   nestablecimiento          object\n",
      " 2   Idcausa                   int64 \n",
      " 3   glosacausa                object\n",
      " 4   Col01                     int64 \n",
      " 5   Col02                     int64 \n",
      " 6   Col03                     int64 \n",
      " 7   Col04                     int64 \n",
      " 8   Col05                     int64 \n",
      " 9   Col06                     int64 \n",
      " 10  fecha                     object\n",
      " 11  semana                    int64 \n",
      " 12  GLOSATIPOESTABLECIMIENTO  object\n",
      " 13  GLOSATIPOATENCION         object\n",
      " 14  GlosaTipoCampana          object\n",
      "dtypes: int64(8), object(7)\n",
      "memory usage: 513.7+ MB\n"
     ]
    }
   ],
   "source": [
    "import pandas as pd \n",
    "\n",
    "df = pd.read_csv('/Users/mvilches/Documents/AtencionesUrgencia.csv')\n",
    "df.info()"
   ]
  },
  {
   "cell_type": "code",
   "execution_count": 3,
   "metadata": {},
   "outputs": [
    {
     "data": {
      "text/plain": [
       "array(['TOTAL CAUSAS SISTEMA CIRCULATORIO', 'Neumonía (J12-J18)',\n",
       "       'TOTAL DEMÁS CAUSAS', 'TOTAL CAUSAS SISTEMA RESPIRATORIO',\n",
       "       'Accidentes del tránsito', 'DIARREA AGUDA (A00-A09)',\n",
       "       'Otra causa respiratoria (J22, J30-J39, J47, J60-J98)',\n",
       "       'Bronquitis/bronquiolitis aguda (J20-J21)',\n",
       "       'SECCIÓN 1. TOTAL ATENCIONES DE URGENCIA',\n",
       "       'Accidente vascular encefálico', 'Otras causas externas',\n",
       "       'Infarto agudo miocardio',\n",
       "       'Crisis obstructiva bronquial (J40-J46)', 'IRA Alta (J00-J06)',\n",
       "       'Influenza (J09-J11)', 'Crisis hipertensiva', 'Arritmia grave',\n",
       "       'Otras causas circulatorias',\n",
       "       'TOTAL TRAUMATISMOS Y ENVENENAMIENTO'], dtype=object)"
      ]
     },
     "execution_count": 3,
     "metadata": {},
     "output_type": "execute_result"
    }
   ],
   "source": [
    "df = df[~df.glosacausa.isin(['\\xa0- LAS DEMÁS CAUSAS',\n",
    "       'Pacientes en espera de hospitalización que esperan menos de 12 horas para ser trasladados a cama hospitalaria',\n",
    "       'CAUSAS SISTEMA RESPIRATORIO',\n",
    "       '\\xa0- TRAUMATISMOS Y ENVENENAMIENTOS',\n",
    "       'SECCIÓN 2. TOTAL DE HOSPITALIZACIONES', 'CIRUGÍAS DE URGENCIA', 'Pacientes en espera de hospitalización','\\xa0-\\xa0CAUSAS SISTEMA CIRCULATORIO'])]\n",
    "df.glosacausa.unique()"
   ]
  },
  {
   "cell_type": "code",
   "execution_count": 4,
   "metadata": {},
   "outputs": [],
   "source": [
    "\n",
    "df2 = df[~((df.semana == 1) & ((df.fecha == '30/12/2018') | (df.fecha == '31/12/2018')))]\n",
    "df2 = df2.reset_index()\n",
    "df_g = df2[~df2.glosacausa.isin(['TOTAL CAUSAS SISTEMA CIRCULATORIO','TOTAL DEMÁS CAUSAS', 'TOTAL CAUSAS SISTEMA RESPIRATORIO','SECCIÓN 1. TOTAL ATENCIONES DE URGENCIA','TOTAL TRAUMATISMOS Y ENVENENAMIENTO'])]\n",
    "df_t = df2[df2.glosacausa.isin(['TOTAL CAUSAS SISTEMA CIRCULATORIO','TOTAL DEMÁS CAUSAS', 'TOTAL CAUSAS SISTEMA RESPIRATORIO','SECCIÓN 1. TOTAL ATENCIONES DE URGENCIA','TOTAL TRAUMATISMOS Y ENVENENAMIENTO'])]"
   ]
  },
  {
   "cell_type": "code",
   "execution_count": 5,
   "metadata": {},
   "outputs": [
    {
     "data": {
      "text/html": [
       "<div>\n",
       "<style scoped>\n",
       "    .dataframe tbody tr th:only-of-type {\n",
       "        vertical-align: middle;\n",
       "    }\n",
       "\n",
       "    .dataframe tbody tr th {\n",
       "        vertical-align: top;\n",
       "    }\n",
       "\n",
       "    .dataframe thead th {\n",
       "        text-align: right;\n",
       "    }\n",
       "</style>\n",
       "<table border=\"1\" class=\"dataframe\">\n",
       "  <thead>\n",
       "    <tr style=\"text-align: right;\">\n",
       "      <th></th>\n",
       "      <th>index</th>\n",
       "      <th>idestablecimiento</th>\n",
       "      <th>nestablecimiento</th>\n",
       "      <th>Idcausa</th>\n",
       "      <th>glosacausa</th>\n",
       "      <th>Col01</th>\n",
       "      <th>Col02</th>\n",
       "      <th>Col03</th>\n",
       "      <th>Col04</th>\n",
       "      <th>Col05</th>\n",
       "      <th>Col06</th>\n",
       "      <th>fecha</th>\n",
       "      <th>semana</th>\n",
       "      <th>GLOSATIPOESTABLECIMIENTO</th>\n",
       "      <th>GLOSATIPOATENCION</th>\n",
       "      <th>GlosaTipoCampana</th>\n",
       "    </tr>\n",
       "  </thead>\n",
       "  <tbody>\n",
       "  </tbody>\n",
       "</table>\n",
       "</div>"
      ],
      "text/plain": [
       "Empty DataFrame\n",
       "Columns: [index, idestablecimiento, nestablecimiento, Idcausa, glosacausa, Col01, Col02, Col03, Col04, Col05, Col06, fecha, semana, GLOSATIPOESTABLECIMIENTO, GLOSATIPOATENCION, GlosaTipoCampana]\n",
       "Index: []"
      ]
     },
     "execution_count": 5,
     "metadata": {},
     "output_type": "execute_result"
    }
   ],
   "source": [
    "df_g[(df_g.semana == 1) & ((df_g.fecha == '30/12/2018') | (df_g.fecha == '31/12/2018'))]"
   ]
  },
  {
   "cell_type": "code",
   "execution_count": 6,
   "metadata": {},
   "outputs": [
    {
     "data": {
      "text/html": [
       "<div>\n",
       "<style scoped>\n",
       "    .dataframe tbody tr th:only-of-type {\n",
       "        vertical-align: middle;\n",
       "    }\n",
       "\n",
       "    .dataframe tbody tr th {\n",
       "        vertical-align: top;\n",
       "    }\n",
       "\n",
       "    .dataframe thead th {\n",
       "        text-align: right;\n",
       "    }\n",
       "</style>\n",
       "<table border=\"1\" class=\"dataframe\">\n",
       "  <thead>\n",
       "    <tr style=\"text-align: right;\">\n",
       "      <th></th>\n",
       "      <th>index</th>\n",
       "      <th>idestablecimiento</th>\n",
       "      <th>nestablecimiento</th>\n",
       "      <th>Idcausa</th>\n",
       "      <th>glosacausa</th>\n",
       "      <th>Col01</th>\n",
       "      <th>Col02</th>\n",
       "      <th>Col03</th>\n",
       "      <th>Col04</th>\n",
       "      <th>Col05</th>\n",
       "      <th>Col06</th>\n",
       "      <th>fecha</th>\n",
       "      <th>semana</th>\n",
       "      <th>GLOSATIPOESTABLECIMIENTO</th>\n",
       "      <th>GLOSATIPOATENCION</th>\n",
       "      <th>GlosaTipoCampana</th>\n",
       "    </tr>\n",
       "  </thead>\n",
       "  <tbody>\n",
       "    <tr>\n",
       "      <th>1739253</th>\n",
       "      <td>2473023</td>\n",
       "      <td>17-824</td>\n",
       "      <td>SAPU-Los Volcanes</td>\n",
       "      <td>18</td>\n",
       "      <td>TOTAL TRAUMATISMOS Y ENVENENAMIENTO</td>\n",
       "      <td>6</td>\n",
       "      <td>0</td>\n",
       "      <td>1</td>\n",
       "      <td>0</td>\n",
       "      <td>5</td>\n",
       "      <td>0</td>\n",
       "      <td>03/06/2018</td>\n",
       "      <td>23</td>\n",
       "      <td>SAPU</td>\n",
       "      <td>Indiferenciado</td>\n",
       "      <td>Ninguna</td>\n",
       "    </tr>\n",
       "    <tr>\n",
       "      <th>1739254</th>\n",
       "      <td>2473024</td>\n",
       "      <td>17-824</td>\n",
       "      <td>SAPU-Los Volcanes</td>\n",
       "      <td>18</td>\n",
       "      <td>TOTAL TRAUMATISMOS Y ENVENENAMIENTO</td>\n",
       "      <td>2</td>\n",
       "      <td>0</td>\n",
       "      <td>0</td>\n",
       "      <td>0</td>\n",
       "      <td>2</td>\n",
       "      <td>0</td>\n",
       "      <td>04/06/2018</td>\n",
       "      <td>23</td>\n",
       "      <td>SAPU</td>\n",
       "      <td>Indiferenciado</td>\n",
       "      <td>Ninguna</td>\n",
       "    </tr>\n",
       "    <tr>\n",
       "      <th>1739255</th>\n",
       "      <td>2473025</td>\n",
       "      <td>17-824</td>\n",
       "      <td>SAPU-Los Volcanes</td>\n",
       "      <td>18</td>\n",
       "      <td>TOTAL TRAUMATISMOS Y ENVENENAMIENTO</td>\n",
       "      <td>2</td>\n",
       "      <td>0</td>\n",
       "      <td>0</td>\n",
       "      <td>0</td>\n",
       "      <td>1</td>\n",
       "      <td>1</td>\n",
       "      <td>05/06/2018</td>\n",
       "      <td>23</td>\n",
       "      <td>SAPU</td>\n",
       "      <td>Indiferenciado</td>\n",
       "      <td>Ninguna</td>\n",
       "    </tr>\n",
       "    <tr>\n",
       "      <th>1739256</th>\n",
       "      <td>2473026</td>\n",
       "      <td>17-824</td>\n",
       "      <td>SAPU-Los Volcanes</td>\n",
       "      <td>18</td>\n",
       "      <td>TOTAL TRAUMATISMOS Y ENVENENAMIENTO</td>\n",
       "      <td>1</td>\n",
       "      <td>0</td>\n",
       "      <td>1</td>\n",
       "      <td>0</td>\n",
       "      <td>0</td>\n",
       "      <td>0</td>\n",
       "      <td>06/06/2018</td>\n",
       "      <td>23</td>\n",
       "      <td>SAPU</td>\n",
       "      <td>Indiferenciado</td>\n",
       "      <td>Ninguna</td>\n",
       "    </tr>\n",
       "    <tr>\n",
       "      <th>1739257</th>\n",
       "      <td>2473027</td>\n",
       "      <td>17-824</td>\n",
       "      <td>SAPU-Los Volcanes</td>\n",
       "      <td>18</td>\n",
       "      <td>TOTAL TRAUMATISMOS Y ENVENENAMIENTO</td>\n",
       "      <td>1</td>\n",
       "      <td>0</td>\n",
       "      <td>0</td>\n",
       "      <td>0</td>\n",
       "      <td>1</td>\n",
       "      <td>0</td>\n",
       "      <td>07/06/2018</td>\n",
       "      <td>23</td>\n",
       "      <td>SAPU</td>\n",
       "      <td>Indiferenciado</td>\n",
       "      <td>Ninguna</td>\n",
       "    </tr>\n",
       "    <tr>\n",
       "      <th>1739258</th>\n",
       "      <td>2473028</td>\n",
       "      <td>17-824</td>\n",
       "      <td>SAPU-Los Volcanes</td>\n",
       "      <td>18</td>\n",
       "      <td>TOTAL TRAUMATISMOS Y ENVENENAMIENTO</td>\n",
       "      <td>0</td>\n",
       "      <td>0</td>\n",
       "      <td>0</td>\n",
       "      <td>0</td>\n",
       "      <td>0</td>\n",
       "      <td>0</td>\n",
       "      <td>08/06/2018</td>\n",
       "      <td>23</td>\n",
       "      <td>SAPU</td>\n",
       "      <td>Indiferenciado</td>\n",
       "      <td>Ninguna</td>\n",
       "    </tr>\n",
       "    <tr>\n",
       "      <th>1739259</th>\n",
       "      <td>2473029</td>\n",
       "      <td>17-824</td>\n",
       "      <td>SAPU-Los Volcanes</td>\n",
       "      <td>18</td>\n",
       "      <td>TOTAL TRAUMATISMOS Y ENVENENAMIENTO</td>\n",
       "      <td>3</td>\n",
       "      <td>0</td>\n",
       "      <td>0</td>\n",
       "      <td>0</td>\n",
       "      <td>3</td>\n",
       "      <td>0</td>\n",
       "      <td>09/06/2018</td>\n",
       "      <td>23</td>\n",
       "      <td>SAPU</td>\n",
       "      <td>Indiferenciado</td>\n",
       "      <td>Ninguna</td>\n",
       "    </tr>\n",
       "  </tbody>\n",
       "</table>\n",
       "</div>"
      ],
      "text/plain": [
       "           index idestablecimiento   nestablecimiento  Idcausa  \\\n",
       "1739253  2473023            17-824  SAPU-Los Volcanes       18   \n",
       "1739254  2473024            17-824  SAPU-Los Volcanes       18   \n",
       "1739255  2473025            17-824  SAPU-Los Volcanes       18   \n",
       "1739256  2473026            17-824  SAPU-Los Volcanes       18   \n",
       "1739257  2473027            17-824  SAPU-Los Volcanes       18   \n",
       "1739258  2473028            17-824  SAPU-Los Volcanes       18   \n",
       "1739259  2473029            17-824  SAPU-Los Volcanes       18   \n",
       "\n",
       "                                  glosacausa  Col01  Col02  Col03  Col04  \\\n",
       "1739253  TOTAL TRAUMATISMOS Y ENVENENAMIENTO      6      0      1      0   \n",
       "1739254  TOTAL TRAUMATISMOS Y ENVENENAMIENTO      2      0      0      0   \n",
       "1739255  TOTAL TRAUMATISMOS Y ENVENENAMIENTO      2      0      0      0   \n",
       "1739256  TOTAL TRAUMATISMOS Y ENVENENAMIENTO      1      0      1      0   \n",
       "1739257  TOTAL TRAUMATISMOS Y ENVENENAMIENTO      1      0      0      0   \n",
       "1739258  TOTAL TRAUMATISMOS Y ENVENENAMIENTO      0      0      0      0   \n",
       "1739259  TOTAL TRAUMATISMOS Y ENVENENAMIENTO      3      0      0      0   \n",
       "\n",
       "         Col05  Col06       fecha  semana GLOSATIPOESTABLECIMIENTO  \\\n",
       "1739253      5      0  03/06/2018      23                     SAPU   \n",
       "1739254      2      0  04/06/2018      23                     SAPU   \n",
       "1739255      1      1  05/06/2018      23                     SAPU   \n",
       "1739256      0      0  06/06/2018      23                     SAPU   \n",
       "1739257      1      0  07/06/2018      23                     SAPU   \n",
       "1739258      0      0  08/06/2018      23                     SAPU   \n",
       "1739259      3      0  09/06/2018      23                     SAPU   \n",
       "\n",
       "        GLOSATIPOATENCION GlosaTipoCampana  \n",
       "1739253    Indiferenciado          Ninguna  \n",
       "1739254    Indiferenciado          Ninguna  \n",
       "1739255    Indiferenciado          Ninguna  \n",
       "1739256    Indiferenciado          Ninguna  \n",
       "1739257    Indiferenciado          Ninguna  \n",
       "1739258    Indiferenciado          Ninguna  \n",
       "1739259    Indiferenciado          Ninguna  "
      ]
     },
     "execution_count": 6,
     "metadata": {},
     "output_type": "execute_result"
    }
   ],
   "source": [
    "df_t[(df_t.semana == 23) & (df_t.nestablecimiento == 'SAPU-Los Volcanes') & (df_t.glosacausa == 'TOTAL TRAUMATISMOS Y ENVENENAMIENTO')]"
   ]
  },
  {
   "cell_type": "code",
   "execution_count": 7,
   "metadata": {},
   "outputs": [],
   "source": [
    "es = pd.read_excel('/Users/mvilches/Downloads/est_pais.xlsx')"
   ]
  },
  {
   "cell_type": "code",
   "execution_count": 8,
   "metadata": {},
   "outputs": [],
   "source": [
    "es.drop(columns=['Fecha de Incorporación a la base o cambios',\n",
    "       'Unnamed: 29', 'Unnamed: 30', 'Unnamed: 31'],inplace=True)"
   ]
  },
  {
   "cell_type": "code",
   "execution_count": 9,
   "metadata": {},
   "outputs": [],
   "source": [
    "df3 = (\n",
    "    df_g.merge(es, \n",
    "              left_on=['idestablecimiento'],\n",
    "              right_on=['Código Antiguo '],\n",
    "              how='left', \n",
    "              indicator=True)\n",
    "    .query('_merge == \"both\"')\n",
    "    .drop(columns='_merge')\n",
    ")\n"
   ]
  },
  {
   "cell_type": "code",
   "execution_count": 10,
   "metadata": {},
   "outputs": [],
   "source": [
    "df3=df3.drop(columns=['index'])"
   ]
  },
  {
   "cell_type": "code",
   "execution_count": 11,
   "metadata": {},
   "outputs": [],
   "source": [
    "df3.rename(columns = {'Col01':'total', 'Col02':'Menor a 1 año','Col03':'De 1 a 4 años','Col04':'De 5 a 14 años','Col05':'de 15 a 64 años','Col06':'65 años y más'}, inplace = True)"
   ]
  },
  {
   "cell_type": "code",
   "execution_count": 12,
   "metadata": {},
   "outputs": [],
   "source": [
    "resumen_semanal=df3.groupby(by=['semana','idestablecimiento','glosacausa','Código Región','nestablecimiento'],as_index=False).sum()"
   ]
  },
  {
   "cell_type": "code",
   "execution_count": 30,
   "metadata": {},
   "outputs": [
    {
     "data": {
      "text/html": [
       "<div>\n",
       "<style scoped>\n",
       "    .dataframe tbody tr th:only-of-type {\n",
       "        vertical-align: middle;\n",
       "    }\n",
       "\n",
       "    .dataframe tbody tr th {\n",
       "        vertical-align: top;\n",
       "    }\n",
       "\n",
       "    .dataframe thead th {\n",
       "        text-align: right;\n",
       "    }\n",
       "</style>\n",
       "<table border=\"1\" class=\"dataframe\">\n",
       "  <thead>\n",
       "    <tr style=\"text-align: right;\">\n",
       "      <th></th>\n",
       "      <th>semana</th>\n",
       "      <th>idestablecimiento</th>\n",
       "      <th>glosacausa</th>\n",
       "      <th>Código Región</th>\n",
       "      <th>nestablecimiento</th>\n",
       "      <th>Idcausa</th>\n",
       "      <th>total</th>\n",
       "      <th>Menor a 1 año</th>\n",
       "      <th>De 1 a 4 años</th>\n",
       "      <th>De 5 a 14 años</th>\n",
       "      <th>de 15 a 64 años</th>\n",
       "      <th>65 años y más</th>\n",
       "    </tr>\n",
       "  </thead>\n",
       "  <tbody>\n",
       "    <tr>\n",
       "      <th>0</th>\n",
       "      <td>1</td>\n",
       "      <td>01-100</td>\n",
       "      <td>Accidente vascular encefálico</td>\n",
       "      <td>15.0</td>\n",
       "      <td>Hospital Dr. Juan Noé Crevanni (Arica)</td>\n",
       "      <td>84</td>\n",
       "      <td>0</td>\n",
       "      <td>0</td>\n",
       "      <td>0</td>\n",
       "      <td>0</td>\n",
       "      <td>0</td>\n",
       "      <td>0</td>\n",
       "    </tr>\n",
       "    <tr>\n",
       "      <th>1</th>\n",
       "      <td>1</td>\n",
       "      <td>01-100</td>\n",
       "      <td>Accidentes del tránsito</td>\n",
       "      <td>15.0</td>\n",
       "      <td>Hospital Dr. Juan Noé Crevanni (Arica)</td>\n",
       "      <td>114</td>\n",
       "      <td>0</td>\n",
       "      <td>0</td>\n",
       "      <td>0</td>\n",
       "      <td>0</td>\n",
       "      <td>0</td>\n",
       "      <td>0</td>\n",
       "    </tr>\n",
       "    <tr>\n",
       "      <th>2</th>\n",
       "      <td>1</td>\n",
       "      <td>01-100</td>\n",
       "      <td>Arritmia grave</td>\n",
       "      <td>15.0</td>\n",
       "      <td>Hospital Dr. Juan Noé Crevanni (Arica)</td>\n",
       "      <td>96</td>\n",
       "      <td>1</td>\n",
       "      <td>0</td>\n",
       "      <td>0</td>\n",
       "      <td>0</td>\n",
       "      <td>0</td>\n",
       "      <td>1</td>\n",
       "    </tr>\n",
       "    <tr>\n",
       "      <th>3</th>\n",
       "      <td>1</td>\n",
       "      <td>01-100</td>\n",
       "      <td>Bronquitis/bronquiolitis aguda (J20-J21)</td>\n",
       "      <td>15.0</td>\n",
       "      <td>Hospital Dr. Juan Noé Crevanni (Arica)</td>\n",
       "      <td>18</td>\n",
       "      <td>16</td>\n",
       "      <td>3</td>\n",
       "      <td>6</td>\n",
       "      <td>3</td>\n",
       "      <td>2</td>\n",
       "      <td>2</td>\n",
       "    </tr>\n",
       "    <tr>\n",
       "      <th>4</th>\n",
       "      <td>1</td>\n",
       "      <td>01-100</td>\n",
       "      <td>Crisis hipertensiva</td>\n",
       "      <td>15.0</td>\n",
       "      <td>Hospital Dr. Juan Noé Crevanni (Arica)</td>\n",
       "      <td>90</td>\n",
       "      <td>14</td>\n",
       "      <td>0</td>\n",
       "      <td>0</td>\n",
       "      <td>0</td>\n",
       "      <td>10</td>\n",
       "      <td>4</td>\n",
       "    </tr>\n",
       "    <tr>\n",
       "      <th>...</th>\n",
       "      <td>...</td>\n",
       "      <td>...</td>\n",
       "      <td>...</td>\n",
       "      <td>...</td>\n",
       "      <td>...</td>\n",
       "      <td>...</td>\n",
       "      <td>...</td>\n",
       "      <td>...</td>\n",
       "      <td>...</td>\n",
       "      <td>...</td>\n",
       "      <td>...</td>\n",
       "      <td>...</td>\n",
       "    </tr>\n",
       "    <tr>\n",
       "      <th>317949</th>\n",
       "      <td>52</td>\n",
       "      <td>01-802</td>\n",
       "      <td>Influenza (J09-J11)</td>\n",
       "      <td>15.0</td>\n",
       "      <td>SAPU Dr. Amador Neghme de Arica</td>\n",
       "      <td>28</td>\n",
       "      <td>0</td>\n",
       "      <td>0</td>\n",
       "      <td>0</td>\n",
       "      <td>0</td>\n",
       "      <td>0</td>\n",
       "      <td>0</td>\n",
       "    </tr>\n",
       "    <tr>\n",
       "      <th>317950</th>\n",
       "      <td>52</td>\n",
       "      <td>01-802</td>\n",
       "      <td>Neumonía (J12-J18)</td>\n",
       "      <td>15.0</td>\n",
       "      <td>SAPU Dr. Amador Neghme de Arica</td>\n",
       "      <td>35</td>\n",
       "      <td>1</td>\n",
       "      <td>0</td>\n",
       "      <td>0</td>\n",
       "      <td>0</td>\n",
       "      <td>1</td>\n",
       "      <td>0</td>\n",
       "    </tr>\n",
       "    <tr>\n",
       "      <th>317951</th>\n",
       "      <td>52</td>\n",
       "      <td>01-802</td>\n",
       "      <td>Otra causa respiratoria (J22, J30-J39, J47, J6...</td>\n",
       "      <td>15.0</td>\n",
       "      <td>SAPU Dr. Amador Neghme de Arica</td>\n",
       "      <td>42</td>\n",
       "      <td>1</td>\n",
       "      <td>0</td>\n",
       "      <td>0</td>\n",
       "      <td>0</td>\n",
       "      <td>1</td>\n",
       "      <td>0</td>\n",
       "    </tr>\n",
       "    <tr>\n",
       "      <th>317952</th>\n",
       "      <td>52</td>\n",
       "      <td>01-802</td>\n",
       "      <td>Otras causas circulatorias</td>\n",
       "      <td>15.0</td>\n",
       "      <td>SAPU Dr. Amador Neghme de Arica</td>\n",
       "      <td>119</td>\n",
       "      <td>0</td>\n",
       "      <td>0</td>\n",
       "      <td>0</td>\n",
       "      <td>0</td>\n",
       "      <td>0</td>\n",
       "      <td>0</td>\n",
       "    </tr>\n",
       "    <tr>\n",
       "      <th>317953</th>\n",
       "      <td>52</td>\n",
       "      <td>01-802</td>\n",
       "      <td>Otras causas externas</td>\n",
       "      <td>15.0</td>\n",
       "      <td>SAPU Dr. Amador Neghme de Arica</td>\n",
       "      <td>140</td>\n",
       "      <td>92</td>\n",
       "      <td>1</td>\n",
       "      <td>9</td>\n",
       "      <td>16</td>\n",
       "      <td>59</td>\n",
       "      <td>7</td>\n",
       "    </tr>\n",
       "  </tbody>\n",
       "</table>\n",
       "<p>2212 rows × 12 columns</p>\n",
       "</div>"
      ],
      "text/plain": [
       "        semana idestablecimiento  \\\n",
       "0            1            01-100   \n",
       "1            1            01-100   \n",
       "2            1            01-100   \n",
       "3            1            01-100   \n",
       "4            1            01-100   \n",
       "...        ...               ...   \n",
       "317949      52            01-802   \n",
       "317950      52            01-802   \n",
       "317951      52            01-802   \n",
       "317952      52            01-802   \n",
       "317953      52            01-802   \n",
       "\n",
       "                                               glosacausa  Código Región  \\\n",
       "0                           Accidente vascular encefálico           15.0   \n",
       "1                                 Accidentes del tránsito           15.0   \n",
       "2                                          Arritmia grave           15.0   \n",
       "3                Bronquitis/bronquiolitis aguda (J20-J21)           15.0   \n",
       "4                                     Crisis hipertensiva           15.0   \n",
       "...                                                   ...            ...   \n",
       "317949                                Influenza (J09-J11)           15.0   \n",
       "317950                                 Neumonía (J12-J18)           15.0   \n",
       "317951  Otra causa respiratoria (J22, J30-J39, J47, J6...           15.0   \n",
       "317952                         Otras causas circulatorias           15.0   \n",
       "317953                              Otras causas externas           15.0   \n",
       "\n",
       "                              nestablecimiento  Idcausa  total  Menor a 1 año  \\\n",
       "0       Hospital Dr. Juan Noé Crevanni (Arica)       84      0              0   \n",
       "1       Hospital Dr. Juan Noé Crevanni (Arica)      114      0              0   \n",
       "2       Hospital Dr. Juan Noé Crevanni (Arica)       96      1              0   \n",
       "3       Hospital Dr. Juan Noé Crevanni (Arica)       18     16              3   \n",
       "4       Hospital Dr. Juan Noé Crevanni (Arica)       90     14              0   \n",
       "...                                        ...      ...    ...            ...   \n",
       "317949         SAPU Dr. Amador Neghme de Arica       28      0              0   \n",
       "317950         SAPU Dr. Amador Neghme de Arica       35      1              0   \n",
       "317951         SAPU Dr. Amador Neghme de Arica       42      1              0   \n",
       "317952         SAPU Dr. Amador Neghme de Arica      119      0              0   \n",
       "317953         SAPU Dr. Amador Neghme de Arica      140     92              1   \n",
       "\n",
       "        De 1 a 4 años  De 5 a 14 años  de 15 a 64 años  65 años y más  \n",
       "0                   0               0                0              0  \n",
       "1                   0               0                0              0  \n",
       "2                   0               0                0              1  \n",
       "3                   6               3                2              2  \n",
       "4                   0               0               10              4  \n",
       "...               ...             ...              ...            ...  \n",
       "317949              0               0                0              0  \n",
       "317950              0               0                1              0  \n",
       "317951              0               0                1              0  \n",
       "317952              0               0                0              0  \n",
       "317953              9              16               59              7  \n",
       "\n",
       "[2212 rows x 12 columns]"
      ]
     },
     "execution_count": 30,
     "metadata": {},
     "output_type": "execute_result"
    }
   ],
   "source": [
    "resumen_semanal[resumen_semanal['Código Región']==15]"
   ]
  },
  {
   "cell_type": "code",
   "execution_count": 14,
   "metadata": {},
   "outputs": [],
   "source": [
    "import plotly.express as px\n",
    "\n",
    "def get_line(data,id,gc):\n",
    "    data_id = data[(data.idestablecimiento == id)&(data.glosacausa == gc)]\n",
    "    fig = px.line(data_id,x='semana',y='total',markers=True)\n",
    "    return fig\n",
    "\n",
    "def get_line_edad(data,id,gc,edad):\n",
    "    data_id = data[(data.idestablecimiento == id)&(data.glosacausa == gc)]\n",
    "    fig = px.line(data_id,x='semana',y=edad,markers=True,\n",
    "    labels={\n",
    "                     \"value\": \"# de Pacientes\",\n",
    "                     \"variable\": \"Edades\",\n",
    "                     \"semana\":\"Semanas\"\n",
    "            }\n",
    "        )\n",
    "    fig.update_layout(font_family=\"Courier New\",title_font_family=\"Courier New\")\n",
    "    return fig\n",
    "\n",
    "\n",
    "def get_line_comp(data,id):\n",
    "    data_id = data[(data.idestablecimiento == id)]\n",
    "    fig = px.line(data_id,x='semana',y='total',markers=True,color = 'glosacausa')\n",
    "    return fig\n",
    "\n",
    "def get_bar(data):\n",
    "    fig = px.bar(data, x=data.idestablecimiento,y=['Menor a 1 año','De 1 a 4 años','De 5 a 14 años','de 15 a 64 años','65 años y más'], template=\"simple_white\"\n",
    "\n",
    "    )\n",
    "    return fig\n"
   ]
  },
  {
   "cell_type": "code",
   "execution_count": 28,
   "metadata": {},
   "outputs": [
    {
     "data": {
      "application/vnd.plotly.v1+json": {
       "config": {
        "plotlyServerURL": "https://plot.ly"
       },
       "data": [
        {
         "hovertemplate": "glosacausa=Accidente vascular encefálico<br>semana=%{x}<br>total=%{y}<extra></extra>",
         "legendgroup": "Accidente vascular encefálico",
         "line": {
          "color": "#636efa",
          "dash": "solid"
         },
         "marker": {
          "symbol": "circle"
         },
         "mode": "lines+markers",
         "name": "Accidente vascular encefálico",
         "orientation": "v",
         "showlegend": true,
         "type": "scatter",
         "x": [
          1,
          2,
          3,
          4,
          5,
          6,
          7,
          8,
          9,
          10,
          11,
          12,
          13,
          14,
          15,
          16,
          17,
          18,
          19,
          20,
          21,
          22,
          23,
          24,
          25,
          26,
          27,
          28,
          29,
          30,
          31,
          32,
          33,
          34,
          35,
          36,
          37,
          38,
          39,
          40,
          41,
          42,
          43,
          44,
          45,
          46,
          47,
          48,
          49,
          50,
          51,
          52
         ],
         "xaxis": "x",
         "y": [
          0,
          0,
          0,
          0,
          0,
          0,
          0,
          0,
          0,
          0,
          0,
          0,
          0,
          0,
          0,
          1,
          0,
          0,
          0,
          3,
          1,
          1,
          0,
          0,
          0,
          0,
          0,
          0,
          1,
          0,
          0,
          2,
          1,
          2,
          0,
          1,
          3,
          4,
          3,
          1,
          3,
          2,
          3,
          6,
          2,
          3,
          5,
          5,
          6,
          2,
          6,
          2
         ],
         "yaxis": "y"
        },
        {
         "hovertemplate": "glosacausa=Accidentes del tránsito<br>semana=%{x}<br>total=%{y}<extra></extra>",
         "legendgroup": "Accidentes del tránsito",
         "line": {
          "color": "#EF553B",
          "dash": "solid"
         },
         "marker": {
          "symbol": "circle"
         },
         "mode": "lines+markers",
         "name": "Accidentes del tránsito",
         "orientation": "v",
         "showlegend": true,
         "type": "scatter",
         "x": [
          1,
          2,
          3,
          4,
          5,
          6,
          7,
          8,
          9,
          10,
          11,
          12,
          13,
          14,
          15,
          16,
          17,
          18,
          19,
          20,
          21,
          22,
          23,
          24,
          25,
          26,
          27,
          28,
          29,
          30,
          31,
          32,
          33,
          34,
          35,
          36,
          37,
          38,
          39,
          40,
          41,
          42,
          43,
          44,
          45,
          46,
          47,
          48,
          49,
          50,
          51,
          52
         ],
         "xaxis": "x",
         "y": [
          0,
          0,
          0,
          0,
          0,
          0,
          0,
          0,
          0,
          0,
          0,
          0,
          0,
          0,
          0,
          0,
          0,
          0,
          0,
          0,
          0,
          0,
          0,
          0,
          0,
          0,
          0,
          0,
          0,
          0,
          0,
          0,
          0,
          0,
          0,
          0,
          0,
          0,
          0,
          10,
          17,
          5,
          20,
          7,
          0,
          0,
          0,
          0,
          0,
          0,
          0,
          0
         ],
         "yaxis": "y"
        },
        {
         "hovertemplate": "glosacausa=Arritmia grave<br>semana=%{x}<br>total=%{y}<extra></extra>",
         "legendgroup": "Arritmia grave",
         "line": {
          "color": "#00cc96",
          "dash": "solid"
         },
         "marker": {
          "symbol": "circle"
         },
         "mode": "lines+markers",
         "name": "Arritmia grave",
         "orientation": "v",
         "showlegend": true,
         "type": "scatter",
         "x": [
          1,
          2,
          3,
          4,
          5,
          6,
          7,
          8,
          9,
          10,
          11,
          12,
          13,
          14,
          15,
          16,
          17,
          18,
          19,
          20,
          21,
          22,
          23,
          24,
          25,
          26,
          27,
          28,
          29,
          30,
          31,
          32,
          33,
          34,
          35,
          36,
          37,
          38,
          39,
          40,
          41,
          42,
          43,
          44,
          45,
          46,
          47,
          48,
          49,
          50,
          51,
          52
         ],
         "xaxis": "x",
         "y": [
          1,
          3,
          1,
          0,
          3,
          0,
          1,
          1,
          2,
          2,
          0,
          1,
          2,
          2,
          4,
          1,
          2,
          1,
          0,
          2,
          0,
          0,
          1,
          0,
          2,
          2,
          3,
          0,
          1,
          5,
          1,
          0,
          1,
          0,
          0,
          0,
          0,
          0,
          2,
          1,
          0,
          0,
          1,
          0,
          0,
          3,
          0,
          1,
          2,
          0,
          1,
          0
         ],
         "yaxis": "y"
        },
        {
         "hovertemplate": "glosacausa=Bronquitis/bronquiolitis aguda (J20-J21)<br>semana=%{x}<br>total=%{y}<extra></extra>",
         "legendgroup": "Bronquitis/bronquiolitis aguda (J20-J21)",
         "line": {
          "color": "#ab63fa",
          "dash": "solid"
         },
         "marker": {
          "symbol": "circle"
         },
         "mode": "lines+markers",
         "name": "Bronquitis/bronquiolitis aguda (J20-J21)",
         "orientation": "v",
         "showlegend": true,
         "type": "scatter",
         "x": [
          1,
          2,
          3,
          4,
          5,
          6,
          7,
          8,
          9,
          10,
          11,
          12,
          13,
          14,
          15,
          16,
          17,
          18,
          19,
          20,
          21,
          22,
          23,
          24,
          25,
          26,
          27,
          28,
          29,
          30,
          31,
          32,
          33,
          34,
          35,
          36,
          37,
          38,
          39,
          40,
          41,
          42,
          43,
          44,
          45,
          46,
          47,
          48,
          49,
          50,
          51,
          52
         ],
         "xaxis": "x",
         "y": [
          16,
          28,
          12,
          8,
          6,
          7,
          12,
          3,
          13,
          11,
          41,
          40,
          42,
          50,
          36,
          43,
          44,
          46,
          41,
          51,
          55,
          50,
          34,
          57,
          66,
          64,
          104,
          84,
          47,
          42,
          49,
          51,
          60,
          42,
          62,
          89,
          85,
          112,
          108,
          93,
          103,
          109,
          87,
          71,
          94,
          102,
          95,
          91,
          85,
          70,
          46,
          41
         ],
         "yaxis": "y"
        },
        {
         "hovertemplate": "glosacausa=Crisis hipertensiva<br>semana=%{x}<br>total=%{y}<extra></extra>",
         "legendgroup": "Crisis hipertensiva",
         "line": {
          "color": "#FFA15A",
          "dash": "solid"
         },
         "marker": {
          "symbol": "circle"
         },
         "mode": "lines+markers",
         "name": "Crisis hipertensiva",
         "orientation": "v",
         "showlegend": true,
         "type": "scatter",
         "x": [
          1,
          2,
          3,
          4,
          5,
          6,
          7,
          8,
          9,
          10,
          11,
          12,
          13,
          14,
          15,
          16,
          17,
          18,
          19,
          20,
          21,
          22,
          23,
          24,
          25,
          26,
          27,
          28,
          29,
          30,
          31,
          32,
          33,
          34,
          35,
          36,
          37,
          38,
          39,
          40,
          41,
          42,
          43,
          44,
          45,
          46,
          47,
          48,
          49,
          50,
          51,
          52
         ],
         "xaxis": "x",
         "y": [
          14,
          14,
          16,
          13,
          13,
          11,
          17,
          20,
          18,
          15,
          15,
          8,
          16,
          19,
          14,
          26,
          30,
          25,
          19,
          26,
          24,
          26,
          27,
          14,
          25,
          21,
          19,
          30,
          14,
          24,
          19,
          31,
          23,
          29,
          23,
          13,
          9,
          7,
          8,
          17,
          8,
          9,
          18,
          25,
          10,
          17,
          18,
          11,
          15,
          10,
          9,
          10
         ],
         "yaxis": "y"
        },
        {
         "hovertemplate": "glosacausa=Crisis obstructiva bronquial (J40-J46)<br>semana=%{x}<br>total=%{y}<extra></extra>",
         "legendgroup": "Crisis obstructiva bronquial (J40-J46)",
         "line": {
          "color": "#19d3f3",
          "dash": "solid"
         },
         "marker": {
          "symbol": "circle"
         },
         "mode": "lines+markers",
         "name": "Crisis obstructiva bronquial (J40-J46)",
         "orientation": "v",
         "showlegend": true,
         "type": "scatter",
         "x": [
          1,
          2,
          3,
          4,
          5,
          6,
          7,
          8,
          9,
          10,
          11,
          12,
          13,
          14,
          15,
          16,
          17,
          18,
          19,
          20,
          21,
          22,
          23,
          24,
          25,
          26,
          27,
          28,
          29,
          30,
          31,
          32,
          33,
          34,
          35,
          36,
          37,
          38,
          39,
          40,
          41,
          42,
          43,
          44,
          45,
          46,
          47,
          48,
          49,
          50,
          51,
          52
         ],
         "xaxis": "x",
         "y": [
          47,
          39,
          44,
          49,
          46,
          36,
          51,
          43,
          47,
          63,
          85,
          116,
          121,
          82,
          81,
          134,
          142,
          103,
          104,
          109,
          128,
          144,
          132,
          104,
          182,
          159,
          161,
          157,
          131,
          114,
          117,
          139,
          125,
          102,
          113,
          42,
          20,
          21,
          14,
          16,
          20,
          30,
          18,
          9,
          11,
          6,
          12,
          11,
          8,
          20,
          14,
          10
         ],
         "yaxis": "y"
        },
        {
         "hovertemplate": "glosacausa=DIARREA AGUDA (A00-A09)<br>semana=%{x}<br>total=%{y}<extra></extra>",
         "legendgroup": "DIARREA AGUDA (A00-A09)",
         "line": {
          "color": "#FF6692",
          "dash": "solid"
         },
         "marker": {
          "symbol": "circle"
         },
         "mode": "lines+markers",
         "name": "DIARREA AGUDA (A00-A09)",
         "orientation": "v",
         "showlegend": true,
         "type": "scatter",
         "x": [
          1,
          2,
          3,
          4,
          5,
          6,
          7,
          8,
          9,
          10,
          11,
          12,
          13,
          14,
          15,
          16,
          17,
          18,
          19,
          20,
          21,
          22,
          23,
          24,
          25,
          26,
          27,
          28,
          29,
          30,
          31,
          32,
          33,
          34,
          35,
          36,
          37,
          38,
          39,
          40,
          41,
          42,
          43,
          44,
          45,
          46,
          47,
          48,
          49,
          50,
          51,
          52
         ],
         "xaxis": "x",
         "y": [
          107,
          162,
          176,
          134,
          176,
          139,
          181,
          206,
          158,
          152,
          121,
          157,
          167,
          206,
          193,
          192,
          207,
          175,
          170,
          163,
          131,
          158,
          164,
          126,
          100,
          123,
          107,
          109,
          88,
          102,
          90,
          84,
          125,
          78,
          99,
          56,
          40,
          53,
          64,
          58,
          58,
          59,
          110,
          65,
          105,
          81,
          65,
          111,
          100,
          114,
          102,
          109
         ],
         "yaxis": "y"
        },
        {
         "hovertemplate": "glosacausa=IRA Alta (J00-J06)<br>semana=%{x}<br>total=%{y}<extra></extra>",
         "legendgroup": "IRA Alta (J00-J06)",
         "line": {
          "color": "#B6E880",
          "dash": "solid"
         },
         "marker": {
          "symbol": "circle"
         },
         "mode": "lines+markers",
         "name": "IRA Alta (J00-J06)",
         "orientation": "v",
         "showlegend": true,
         "type": "scatter",
         "x": [
          1,
          2,
          3,
          4,
          5,
          6,
          7,
          8,
          9,
          10,
          11,
          12,
          13,
          14,
          15,
          16,
          17,
          18,
          19,
          20,
          21,
          22,
          23,
          24,
          25,
          26,
          27,
          28,
          29,
          30,
          31,
          32,
          33,
          34,
          35,
          36,
          37,
          38,
          39,
          40,
          41,
          42,
          43,
          44,
          45,
          46,
          47,
          48,
          49,
          50,
          51,
          52
         ],
         "xaxis": "x",
         "y": [
          85,
          101,
          104,
          87,
          89,
          87,
          91,
          93,
          98,
          108,
          156,
          178,
          145,
          166,
          217,
          171,
          211,
          161,
          222,
          193,
          187,
          171,
          163,
          150,
          237,
          206,
          304,
          239,
          182,
          212,
          312,
          377,
          353,
          262,
          228,
          174,
          178,
          166,
          145,
          154,
          167,
          181,
          171,
          165,
          113,
          141,
          128,
          121,
          134,
          152,
          105,
          109
         ],
         "yaxis": "y"
        },
        {
         "hovertemplate": "glosacausa=Infarto agudo miocardio<br>semana=%{x}<br>total=%{y}<extra></extra>",
         "legendgroup": "Infarto agudo miocardio",
         "line": {
          "color": "#FF97FF",
          "dash": "solid"
         },
         "marker": {
          "symbol": "circle"
         },
         "mode": "lines+markers",
         "name": "Infarto agudo miocardio",
         "orientation": "v",
         "showlegend": true,
         "type": "scatter",
         "x": [
          1,
          2,
          3,
          4,
          5,
          6,
          7,
          8,
          9,
          10,
          11,
          12,
          13,
          14,
          15,
          16,
          17,
          18,
          19,
          20,
          21,
          22,
          23,
          24,
          25,
          26,
          27,
          28,
          29,
          30,
          31,
          32,
          33,
          34,
          35,
          36,
          37,
          38,
          39,
          40,
          41,
          42,
          43,
          44,
          45,
          46,
          47,
          48,
          49,
          50,
          51,
          52
         ],
         "xaxis": "x",
         "y": [
          0,
          1,
          3,
          0,
          3,
          0,
          0,
          0,
          1,
          0,
          1,
          0,
          4,
          0,
          1,
          0,
          0,
          2,
          0,
          0,
          0,
          1,
          0,
          0,
          0,
          0,
          0,
          1,
          1,
          2,
          0,
          0,
          0,
          0,
          0,
          2,
          1,
          3,
          3,
          1,
          3,
          1,
          4,
          0,
          2,
          1,
          3,
          0,
          1,
          0,
          0,
          1
         ],
         "yaxis": "y"
        },
        {
         "hovertemplate": "glosacausa=Influenza (J09-J11)<br>semana=%{x}<br>total=%{y}<extra></extra>",
         "legendgroup": "Influenza (J09-J11)",
         "line": {
          "color": "#FECB52",
          "dash": "solid"
         },
         "marker": {
          "symbol": "circle"
         },
         "mode": "lines+markers",
         "name": "Influenza (J09-J11)",
         "orientation": "v",
         "showlegend": true,
         "type": "scatter",
         "x": [
          1,
          2,
          3,
          4,
          5,
          6,
          7,
          8,
          9,
          10,
          11,
          12,
          13,
          14,
          15,
          16,
          17,
          18,
          19,
          20,
          21,
          22,
          23,
          24,
          25,
          26,
          27,
          28,
          29,
          30,
          31,
          32,
          33,
          34,
          35,
          36,
          37,
          38,
          39,
          40,
          41,
          42,
          43,
          44,
          45,
          46,
          47,
          48,
          49,
          50,
          51,
          52
         ],
         "xaxis": "x",
         "y": [
          1,
          3,
          0,
          2,
          4,
          1,
          1,
          4,
          5,
          6,
          7,
          12,
          16,
          5,
          28,
          8,
          6,
          5,
          11,
          3,
          8,
          33,
          11,
          5,
          18,
          25,
          36,
          48,
          36,
          44,
          35,
          36,
          49,
          51,
          19,
          1,
          4,
          0,
          0,
          0,
          0,
          1,
          0,
          0,
          0,
          0,
          1,
          0,
          0,
          0,
          3,
          0
         ],
         "yaxis": "y"
        },
        {
         "hovertemplate": "glosacausa=Neumonía (J12-J18)<br>semana=%{x}<br>total=%{y}<extra></extra>",
         "legendgroup": "Neumonía (J12-J18)",
         "line": {
          "color": "#636efa",
          "dash": "solid"
         },
         "marker": {
          "symbol": "circle"
         },
         "mode": "lines+markers",
         "name": "Neumonía (J12-J18)",
         "orientation": "v",
         "showlegend": true,
         "type": "scatter",
         "x": [
          1,
          2,
          3,
          4,
          5,
          6,
          7,
          8,
          9,
          10,
          11,
          12,
          13,
          14,
          15,
          16,
          17,
          18,
          19,
          20,
          21,
          22,
          23,
          24,
          25,
          26,
          27,
          28,
          29,
          30,
          31,
          32,
          33,
          34,
          35,
          36,
          37,
          38,
          39,
          40,
          41,
          42,
          43,
          44,
          45,
          46,
          47,
          48,
          49,
          50,
          51,
          52
         ],
         "xaxis": "x",
         "y": [
          18,
          10,
          17,
          11,
          12,
          22,
          15,
          12,
          7,
          15,
          15,
          21,
          16,
          20,
          20,
          21,
          20,
          23,
          14,
          26,
          13,
          14,
          21,
          27,
          21,
          28,
          22,
          38,
          27,
          31,
          33,
          47,
          54,
          34,
          32,
          20,
          29,
          17,
          19,
          19,
          20,
          21,
          23,
          19,
          26,
          21,
          11,
          7,
          17,
          15,
          24,
          14
         ],
         "yaxis": "y"
        },
        {
         "hovertemplate": "glosacausa=Otra causa respiratoria (J22, J30-J39, J47, J60-J98)<br>semana=%{x}<br>total=%{y}<extra></extra>",
         "legendgroup": "Otra causa respiratoria (J22, J30-J39, J47, J60-J98)",
         "line": {
          "color": "#EF553B",
          "dash": "solid"
         },
         "marker": {
          "symbol": "circle"
         },
         "mode": "lines+markers",
         "name": "Otra causa respiratoria (J22, J30-J39, J47, J60-J98)",
         "orientation": "v",
         "showlegend": true,
         "type": "scatter",
         "x": [
          1,
          2,
          3,
          4,
          5,
          6,
          7,
          8,
          9,
          10,
          11,
          12,
          13,
          14,
          15,
          16,
          17,
          18,
          19,
          20,
          21,
          22,
          23,
          24,
          25,
          26,
          27,
          28,
          29,
          30,
          31,
          32,
          33,
          34,
          35,
          36,
          37,
          38,
          39,
          40,
          41,
          42,
          43,
          44,
          45,
          46,
          47,
          48,
          49,
          50,
          51,
          52
         ],
         "xaxis": "x",
         "y": [
          19,
          25,
          14,
          18,
          13,
          9,
          10,
          25,
          16,
          27,
          31,
          24,
          12,
          9,
          49,
          31,
          18,
          37,
          23,
          34,
          34,
          32,
          33,
          41,
          39,
          45,
          30,
          42,
          34,
          43,
          42,
          39,
          63,
          17,
          31,
          21,
          6,
          8,
          6,
          10,
          14,
          5,
          7,
          8,
          5,
          18,
          6,
          5,
          11,
          11,
          11,
          12
         ],
         "yaxis": "y"
        },
        {
         "hovertemplate": "glosacausa=Otras causas circulatorias<br>semana=%{x}<br>total=%{y}<extra></extra>",
         "legendgroup": "Otras causas circulatorias",
         "line": {
          "color": "#00cc96",
          "dash": "solid"
         },
         "marker": {
          "symbol": "circle"
         },
         "mode": "lines+markers",
         "name": "Otras causas circulatorias",
         "orientation": "v",
         "showlegend": true,
         "type": "scatter",
         "x": [
          1,
          2,
          3,
          4,
          5,
          6,
          7,
          8,
          9,
          10,
          11,
          12,
          13,
          14,
          15,
          16,
          17,
          18,
          19,
          20,
          21,
          22,
          23,
          24,
          25,
          26,
          27,
          28,
          29,
          30,
          31,
          32,
          33,
          34,
          35,
          36,
          37,
          38,
          39,
          40,
          41,
          42,
          43,
          44,
          45,
          46,
          47,
          48,
          49,
          50,
          51,
          52
         ],
         "xaxis": "x",
         "y": [
          20,
          23,
          23,
          22,
          32,
          14,
          14,
          31,
          23,
          26,
          35,
          31,
          23,
          35,
          21,
          19,
          33,
          19,
          18,
          24,
          15,
          15,
          18,
          17,
          13,
          16,
          21,
          14,
          21,
          29,
          22,
          23,
          29,
          20,
          26,
          20,
          21,
          26,
          31,
          27,
          21,
          21,
          36,
          33,
          35,
          30,
          26,
          23,
          30,
          36,
          33,
          30
         ],
         "yaxis": "y"
        },
        {
         "hovertemplate": "glosacausa=Otras causas externas<br>semana=%{x}<br>total=%{y}<extra></extra>",
         "legendgroup": "Otras causas externas",
         "line": {
          "color": "#ab63fa",
          "dash": "solid"
         },
         "marker": {
          "symbol": "circle"
         },
         "mode": "lines+markers",
         "name": "Otras causas externas",
         "orientation": "v",
         "showlegend": true,
         "type": "scatter",
         "x": [
          1,
          2,
          3,
          4,
          5,
          6,
          7,
          8,
          9,
          10,
          11,
          12,
          13,
          14,
          15,
          16,
          17,
          18,
          19,
          20,
          21,
          22,
          23,
          24,
          25,
          26,
          27,
          28,
          29,
          30,
          31,
          32,
          33,
          34,
          35,
          36,
          37,
          38,
          39,
          40,
          41,
          42,
          43,
          44,
          45,
          46,
          47,
          48,
          49,
          50,
          51,
          52
         ],
         "xaxis": "x",
         "y": [
          378,
          420,
          432,
          380,
          462,
          367,
          408,
          453,
          406,
          469,
          497,
          557,
          510,
          488,
          566,
          552,
          543,
          523,
          474,
          434,
          410,
          463,
          439,
          457,
          312,
          396,
          372,
          282,
          290,
          367,
          403,
          407,
          389,
          411,
          401,
          268,
          285,
          203,
          317,
          318,
          257,
          258,
          296,
          271,
          288,
          303,
          306,
          306,
          299,
          288,
          266,
          225
         ],
         "yaxis": "y"
        }
       ],
       "layout": {
        "legend": {
         "title": {
          "text": "glosacausa"
         },
         "tracegroupgap": 0
        },
        "margin": {
         "t": 60
        },
        "template": {
         "data": {
          "bar": [
           {
            "error_x": {
             "color": "#2a3f5f"
            },
            "error_y": {
             "color": "#2a3f5f"
            },
            "marker": {
             "line": {
              "color": "#E5ECF6",
              "width": 0.5
             },
             "pattern": {
              "fillmode": "overlay",
              "size": 10,
              "solidity": 0.2
             }
            },
            "type": "bar"
           }
          ],
          "barpolar": [
           {
            "marker": {
             "line": {
              "color": "#E5ECF6",
              "width": 0.5
             },
             "pattern": {
              "fillmode": "overlay",
              "size": 10,
              "solidity": 0.2
             }
            },
            "type": "barpolar"
           }
          ],
          "carpet": [
           {
            "aaxis": {
             "endlinecolor": "#2a3f5f",
             "gridcolor": "white",
             "linecolor": "white",
             "minorgridcolor": "white",
             "startlinecolor": "#2a3f5f"
            },
            "baxis": {
             "endlinecolor": "#2a3f5f",
             "gridcolor": "white",
             "linecolor": "white",
             "minorgridcolor": "white",
             "startlinecolor": "#2a3f5f"
            },
            "type": "carpet"
           }
          ],
          "choropleth": [
           {
            "colorbar": {
             "outlinewidth": 0,
             "ticks": ""
            },
            "type": "choropleth"
           }
          ],
          "contour": [
           {
            "colorbar": {
             "outlinewidth": 0,
             "ticks": ""
            },
            "colorscale": [
             [
              0,
              "#0d0887"
             ],
             [
              0.1111111111111111,
              "#46039f"
             ],
             [
              0.2222222222222222,
              "#7201a8"
             ],
             [
              0.3333333333333333,
              "#9c179e"
             ],
             [
              0.4444444444444444,
              "#bd3786"
             ],
             [
              0.5555555555555556,
              "#d8576b"
             ],
             [
              0.6666666666666666,
              "#ed7953"
             ],
             [
              0.7777777777777778,
              "#fb9f3a"
             ],
             [
              0.8888888888888888,
              "#fdca26"
             ],
             [
              1,
              "#f0f921"
             ]
            ],
            "type": "contour"
           }
          ],
          "contourcarpet": [
           {
            "colorbar": {
             "outlinewidth": 0,
             "ticks": ""
            },
            "type": "contourcarpet"
           }
          ],
          "heatmap": [
           {
            "colorbar": {
             "outlinewidth": 0,
             "ticks": ""
            },
            "colorscale": [
             [
              0,
              "#0d0887"
             ],
             [
              0.1111111111111111,
              "#46039f"
             ],
             [
              0.2222222222222222,
              "#7201a8"
             ],
             [
              0.3333333333333333,
              "#9c179e"
             ],
             [
              0.4444444444444444,
              "#bd3786"
             ],
             [
              0.5555555555555556,
              "#d8576b"
             ],
             [
              0.6666666666666666,
              "#ed7953"
             ],
             [
              0.7777777777777778,
              "#fb9f3a"
             ],
             [
              0.8888888888888888,
              "#fdca26"
             ],
             [
              1,
              "#f0f921"
             ]
            ],
            "type": "heatmap"
           }
          ],
          "heatmapgl": [
           {
            "colorbar": {
             "outlinewidth": 0,
             "ticks": ""
            },
            "colorscale": [
             [
              0,
              "#0d0887"
             ],
             [
              0.1111111111111111,
              "#46039f"
             ],
             [
              0.2222222222222222,
              "#7201a8"
             ],
             [
              0.3333333333333333,
              "#9c179e"
             ],
             [
              0.4444444444444444,
              "#bd3786"
             ],
             [
              0.5555555555555556,
              "#d8576b"
             ],
             [
              0.6666666666666666,
              "#ed7953"
             ],
             [
              0.7777777777777778,
              "#fb9f3a"
             ],
             [
              0.8888888888888888,
              "#fdca26"
             ],
             [
              1,
              "#f0f921"
             ]
            ],
            "type": "heatmapgl"
           }
          ],
          "histogram": [
           {
            "marker": {
             "pattern": {
              "fillmode": "overlay",
              "size": 10,
              "solidity": 0.2
             }
            },
            "type": "histogram"
           }
          ],
          "histogram2d": [
           {
            "colorbar": {
             "outlinewidth": 0,
             "ticks": ""
            },
            "colorscale": [
             [
              0,
              "#0d0887"
             ],
             [
              0.1111111111111111,
              "#46039f"
             ],
             [
              0.2222222222222222,
              "#7201a8"
             ],
             [
              0.3333333333333333,
              "#9c179e"
             ],
             [
              0.4444444444444444,
              "#bd3786"
             ],
             [
              0.5555555555555556,
              "#d8576b"
             ],
             [
              0.6666666666666666,
              "#ed7953"
             ],
             [
              0.7777777777777778,
              "#fb9f3a"
             ],
             [
              0.8888888888888888,
              "#fdca26"
             ],
             [
              1,
              "#f0f921"
             ]
            ],
            "type": "histogram2d"
           }
          ],
          "histogram2dcontour": [
           {
            "colorbar": {
             "outlinewidth": 0,
             "ticks": ""
            },
            "colorscale": [
             [
              0,
              "#0d0887"
             ],
             [
              0.1111111111111111,
              "#46039f"
             ],
             [
              0.2222222222222222,
              "#7201a8"
             ],
             [
              0.3333333333333333,
              "#9c179e"
             ],
             [
              0.4444444444444444,
              "#bd3786"
             ],
             [
              0.5555555555555556,
              "#d8576b"
             ],
             [
              0.6666666666666666,
              "#ed7953"
             ],
             [
              0.7777777777777778,
              "#fb9f3a"
             ],
             [
              0.8888888888888888,
              "#fdca26"
             ],
             [
              1,
              "#f0f921"
             ]
            ],
            "type": "histogram2dcontour"
           }
          ],
          "mesh3d": [
           {
            "colorbar": {
             "outlinewidth": 0,
             "ticks": ""
            },
            "type": "mesh3d"
           }
          ],
          "parcoords": [
           {
            "line": {
             "colorbar": {
              "outlinewidth": 0,
              "ticks": ""
             }
            },
            "type": "parcoords"
           }
          ],
          "pie": [
           {
            "automargin": true,
            "type": "pie"
           }
          ],
          "scatter": [
           {
            "marker": {
             "colorbar": {
              "outlinewidth": 0,
              "ticks": ""
             }
            },
            "type": "scatter"
           }
          ],
          "scatter3d": [
           {
            "line": {
             "colorbar": {
              "outlinewidth": 0,
              "ticks": ""
             }
            },
            "marker": {
             "colorbar": {
              "outlinewidth": 0,
              "ticks": ""
             }
            },
            "type": "scatter3d"
           }
          ],
          "scattercarpet": [
           {
            "marker": {
             "colorbar": {
              "outlinewidth": 0,
              "ticks": ""
             }
            },
            "type": "scattercarpet"
           }
          ],
          "scattergeo": [
           {
            "marker": {
             "colorbar": {
              "outlinewidth": 0,
              "ticks": ""
             }
            },
            "type": "scattergeo"
           }
          ],
          "scattergl": [
           {
            "marker": {
             "colorbar": {
              "outlinewidth": 0,
              "ticks": ""
             }
            },
            "type": "scattergl"
           }
          ],
          "scattermapbox": [
           {
            "marker": {
             "colorbar": {
              "outlinewidth": 0,
              "ticks": ""
             }
            },
            "type": "scattermapbox"
           }
          ],
          "scatterpolar": [
           {
            "marker": {
             "colorbar": {
              "outlinewidth": 0,
              "ticks": ""
             }
            },
            "type": "scatterpolar"
           }
          ],
          "scatterpolargl": [
           {
            "marker": {
             "colorbar": {
              "outlinewidth": 0,
              "ticks": ""
             }
            },
            "type": "scatterpolargl"
           }
          ],
          "scatterternary": [
           {
            "marker": {
             "colorbar": {
              "outlinewidth": 0,
              "ticks": ""
             }
            },
            "type": "scatterternary"
           }
          ],
          "surface": [
           {
            "colorbar": {
             "outlinewidth": 0,
             "ticks": ""
            },
            "colorscale": [
             [
              0,
              "#0d0887"
             ],
             [
              0.1111111111111111,
              "#46039f"
             ],
             [
              0.2222222222222222,
              "#7201a8"
             ],
             [
              0.3333333333333333,
              "#9c179e"
             ],
             [
              0.4444444444444444,
              "#bd3786"
             ],
             [
              0.5555555555555556,
              "#d8576b"
             ],
             [
              0.6666666666666666,
              "#ed7953"
             ],
             [
              0.7777777777777778,
              "#fb9f3a"
             ],
             [
              0.8888888888888888,
              "#fdca26"
             ],
             [
              1,
              "#f0f921"
             ]
            ],
            "type": "surface"
           }
          ],
          "table": [
           {
            "cells": {
             "fill": {
              "color": "#EBF0F8"
             },
             "line": {
              "color": "white"
             }
            },
            "header": {
             "fill": {
              "color": "#C8D4E3"
             },
             "line": {
              "color": "white"
             }
            },
            "type": "table"
           }
          ]
         },
         "layout": {
          "annotationdefaults": {
           "arrowcolor": "#2a3f5f",
           "arrowhead": 0,
           "arrowwidth": 1
          },
          "autotypenumbers": "strict",
          "coloraxis": {
           "colorbar": {
            "outlinewidth": 0,
            "ticks": ""
           }
          },
          "colorscale": {
           "diverging": [
            [
             0,
             "#8e0152"
            ],
            [
             0.1,
             "#c51b7d"
            ],
            [
             0.2,
             "#de77ae"
            ],
            [
             0.3,
             "#f1b6da"
            ],
            [
             0.4,
             "#fde0ef"
            ],
            [
             0.5,
             "#f7f7f7"
            ],
            [
             0.6,
             "#e6f5d0"
            ],
            [
             0.7,
             "#b8e186"
            ],
            [
             0.8,
             "#7fbc41"
            ],
            [
             0.9,
             "#4d9221"
            ],
            [
             1,
             "#276419"
            ]
           ],
           "sequential": [
            [
             0,
             "#0d0887"
            ],
            [
             0.1111111111111111,
             "#46039f"
            ],
            [
             0.2222222222222222,
             "#7201a8"
            ],
            [
             0.3333333333333333,
             "#9c179e"
            ],
            [
             0.4444444444444444,
             "#bd3786"
            ],
            [
             0.5555555555555556,
             "#d8576b"
            ],
            [
             0.6666666666666666,
             "#ed7953"
            ],
            [
             0.7777777777777778,
             "#fb9f3a"
            ],
            [
             0.8888888888888888,
             "#fdca26"
            ],
            [
             1,
             "#f0f921"
            ]
           ],
           "sequentialminus": [
            [
             0,
             "#0d0887"
            ],
            [
             0.1111111111111111,
             "#46039f"
            ],
            [
             0.2222222222222222,
             "#7201a8"
            ],
            [
             0.3333333333333333,
             "#9c179e"
            ],
            [
             0.4444444444444444,
             "#bd3786"
            ],
            [
             0.5555555555555556,
             "#d8576b"
            ],
            [
             0.6666666666666666,
             "#ed7953"
            ],
            [
             0.7777777777777778,
             "#fb9f3a"
            ],
            [
             0.8888888888888888,
             "#fdca26"
            ],
            [
             1,
             "#f0f921"
            ]
           ]
          },
          "colorway": [
           "#636efa",
           "#EF553B",
           "#00cc96",
           "#ab63fa",
           "#FFA15A",
           "#19d3f3",
           "#FF6692",
           "#B6E880",
           "#FF97FF",
           "#FECB52"
          ],
          "font": {
           "color": "#2a3f5f"
          },
          "geo": {
           "bgcolor": "white",
           "lakecolor": "white",
           "landcolor": "#E5ECF6",
           "showlakes": true,
           "showland": true,
           "subunitcolor": "white"
          },
          "hoverlabel": {
           "align": "left"
          },
          "hovermode": "closest",
          "mapbox": {
           "style": "light"
          },
          "paper_bgcolor": "white",
          "plot_bgcolor": "#E5ECF6",
          "polar": {
           "angularaxis": {
            "gridcolor": "white",
            "linecolor": "white",
            "ticks": ""
           },
           "bgcolor": "#E5ECF6",
           "radialaxis": {
            "gridcolor": "white",
            "linecolor": "white",
            "ticks": ""
           }
          },
          "scene": {
           "xaxis": {
            "backgroundcolor": "#E5ECF6",
            "gridcolor": "white",
            "gridwidth": 2,
            "linecolor": "white",
            "showbackground": true,
            "ticks": "",
            "zerolinecolor": "white"
           },
           "yaxis": {
            "backgroundcolor": "#E5ECF6",
            "gridcolor": "white",
            "gridwidth": 2,
            "linecolor": "white",
            "showbackground": true,
            "ticks": "",
            "zerolinecolor": "white"
           },
           "zaxis": {
            "backgroundcolor": "#E5ECF6",
            "gridcolor": "white",
            "gridwidth": 2,
            "linecolor": "white",
            "showbackground": true,
            "ticks": "",
            "zerolinecolor": "white"
           }
          },
          "shapedefaults": {
           "line": {
            "color": "#2a3f5f"
           }
          },
          "ternary": {
           "aaxis": {
            "gridcolor": "white",
            "linecolor": "white",
            "ticks": ""
           },
           "baxis": {
            "gridcolor": "white",
            "linecolor": "white",
            "ticks": ""
           },
           "bgcolor": "#E5ECF6",
           "caxis": {
            "gridcolor": "white",
            "linecolor": "white",
            "ticks": ""
           }
          },
          "title": {
           "x": 0.05
          },
          "xaxis": {
           "automargin": true,
           "gridcolor": "white",
           "linecolor": "white",
           "ticks": "",
           "title": {
            "standoff": 15
           },
           "zerolinecolor": "white",
           "zerolinewidth": 2
          },
          "yaxis": {
           "automargin": true,
           "gridcolor": "white",
           "linecolor": "white",
           "ticks": "",
           "title": {
            "standoff": 15
           },
           "zerolinecolor": "white",
           "zerolinewidth": 2
          }
         }
        },
        "xaxis": {
         "anchor": "y",
         "domain": [
          0,
          1
         ],
         "title": {
          "text": "semana"
         }
        },
        "yaxis": {
         "anchor": "x",
         "domain": [
          0,
          1
         ],
         "title": {
          "text": "total"
         }
        }
       }
      }
     },
     "metadata": {},
     "output_type": "display_data"
    }
   ],
   "source": [
    "get_line_comp(resumen_semanal,'01-100')\n"
   ]
  },
  {
   "cell_type": "code",
   "execution_count": 27,
   "metadata": {},
   "outputs": [
    {
     "data": {
      "application/vnd.plotly.v1+json": {
       "config": {
        "plotlyServerURL": "https://plot.ly"
       },
       "data": [
        {
         "alignmentgroup": "True",
         "hovertemplate": "variable=Menor a 1 año<br>nestablecimiento=%{x}<br>value=%{y}<extra></extra>",
         "legendgroup": "Menor a 1 año",
         "marker": {
          "color": "#1F77B4",
          "pattern": {
           "shape": ""
          }
         },
         "name": "Menor a 1 año",
         "offsetgroup": "Menor a 1 año",
         "orientation": "v",
         "showlegend": true,
         "textposition": "auto",
         "type": "bar",
         "x": [
          "Hospital Carlos Van Buren (Valparaíso)",
          "Hospital Dr. Gustavo Fricke (Viña del Mar)",
          "SAPU-Miraflores (Viña del Mar)",
          "Hospital San Juan de Dios (Los Andes)",
          "Hospital de San Camilo (San Felipe)"
         ],
         "xaxis": "x",
         "y": [
          7431,
          4901,
          893,
          1289,
          1871
         ],
         "yaxis": "y"
        },
        {
         "alignmentgroup": "True",
         "hovertemplate": "variable=De 1 a 4 años<br>nestablecimiento=%{x}<br>value=%{y}<extra></extra>",
         "legendgroup": "De 1 a 4 años",
         "marker": {
          "color": "#FF7F0E",
          "pattern": {
           "shape": ""
          }
         },
         "name": "De 1 a 4 años",
         "offsetgroup": "De 1 a 4 años",
         "orientation": "v",
         "showlegend": true,
         "textposition": "auto",
         "type": "bar",
         "x": [
          "Hospital Carlos Van Buren (Valparaíso)",
          "Hospital Dr. Gustavo Fricke (Viña del Mar)",
          "SAPU-Miraflores (Viña del Mar)",
          "Hospital San Juan de Dios (Los Andes)",
          "Hospital de San Camilo (San Felipe)"
         ],
         "xaxis": "x",
         "y": [
          21170,
          12326,
          5000,
          6309,
          4254
         ],
         "yaxis": "y"
        },
        {
         "alignmentgroup": "True",
         "hovertemplate": "variable=De 5 a 14 años<br>nestablecimiento=%{x}<br>value=%{y}<extra></extra>",
         "legendgroup": "De 5 a 14 años",
         "marker": {
          "color": "#2CA02C",
          "pattern": {
           "shape": ""
          }
         },
         "name": "De 5 a 14 años",
         "offsetgroup": "De 5 a 14 años",
         "orientation": "v",
         "showlegend": true,
         "textposition": "auto",
         "type": "bar",
         "x": [
          "Hospital Carlos Van Buren (Valparaíso)",
          "Hospital Dr. Gustavo Fricke (Viña del Mar)",
          "SAPU-Miraflores (Viña del Mar)",
          "Hospital San Juan de Dios (Los Andes)",
          "Hospital de San Camilo (San Felipe)"
         ],
         "xaxis": "x",
         "y": [
          28861,
          16198,
          7408,
          7549,
          4951
         ],
         "yaxis": "y"
        },
        {
         "alignmentgroup": "True",
         "hovertemplate": "variable=de 15 a 64 años<br>nestablecimiento=%{x}<br>value=%{y}<extra></extra>",
         "legendgroup": "de 15 a 64 años",
         "marker": {
          "color": "#D62728",
          "pattern": {
           "shape": ""
          }
         },
         "name": "de 15 a 64 años",
         "offsetgroup": "de 15 a 64 años",
         "orientation": "v",
         "showlegend": true,
         "textposition": "auto",
         "type": "bar",
         "x": [
          "Hospital Carlos Van Buren (Valparaíso)",
          "Hospital Dr. Gustavo Fricke (Viña del Mar)",
          "SAPU-Miraflores (Viña del Mar)",
          "Hospital San Juan de Dios (Los Andes)",
          "Hospital de San Camilo (San Felipe)"
         ],
         "xaxis": "x",
         "y": [
          12614,
          20162,
          30363,
          16340,
          11871
         ],
         "yaxis": "y"
        },
        {
         "alignmentgroup": "True",
         "hovertemplate": "variable=65 años y más<br>nestablecimiento=%{x}<br>value=%{y}<extra></extra>",
         "legendgroup": "65 años y más",
         "marker": {
          "color": "#9467BD",
          "pattern": {
           "shape": ""
          }
         },
         "name": "65 años y más",
         "offsetgroup": "65 años y más",
         "orientation": "v",
         "showlegend": true,
         "textposition": "auto",
         "type": "bar",
         "x": [
          "Hospital Carlos Van Buren (Valparaíso)",
          "Hospital Dr. Gustavo Fricke (Viña del Mar)",
          "SAPU-Miraflores (Viña del Mar)",
          "Hospital San Juan de Dios (Los Andes)",
          "Hospital de San Camilo (San Felipe)"
         ],
         "xaxis": "x",
         "y": [
          5161,
          6788,
          4450,
          5823,
          4007
         ],
         "yaxis": "y"
        }
       ],
       "layout": {
        "barmode": "relative",
        "legend": {
         "title": {
          "text": "variable"
         },
         "tracegroupgap": 0
        },
        "margin": {
         "t": 60
        },
        "template": {
         "data": {
          "bar": [
           {
            "error_x": {
             "color": "rgb(36,36,36)"
            },
            "error_y": {
             "color": "rgb(36,36,36)"
            },
            "marker": {
             "line": {
              "color": "white",
              "width": 0.5
             },
             "pattern": {
              "fillmode": "overlay",
              "size": 10,
              "solidity": 0.2
             }
            },
            "type": "bar"
           }
          ],
          "barpolar": [
           {
            "marker": {
             "line": {
              "color": "white",
              "width": 0.5
             },
             "pattern": {
              "fillmode": "overlay",
              "size": 10,
              "solidity": 0.2
             }
            },
            "type": "barpolar"
           }
          ],
          "carpet": [
           {
            "aaxis": {
             "endlinecolor": "rgb(36,36,36)",
             "gridcolor": "white",
             "linecolor": "white",
             "minorgridcolor": "white",
             "startlinecolor": "rgb(36,36,36)"
            },
            "baxis": {
             "endlinecolor": "rgb(36,36,36)",
             "gridcolor": "white",
             "linecolor": "white",
             "minorgridcolor": "white",
             "startlinecolor": "rgb(36,36,36)"
            },
            "type": "carpet"
           }
          ],
          "choropleth": [
           {
            "colorbar": {
             "outlinewidth": 1,
             "tickcolor": "rgb(36,36,36)",
             "ticks": "outside"
            },
            "type": "choropleth"
           }
          ],
          "contour": [
           {
            "colorbar": {
             "outlinewidth": 1,
             "tickcolor": "rgb(36,36,36)",
             "ticks": "outside"
            },
            "colorscale": [
             [
              0,
              "#440154"
             ],
             [
              0.1111111111111111,
              "#482878"
             ],
             [
              0.2222222222222222,
              "#3e4989"
             ],
             [
              0.3333333333333333,
              "#31688e"
             ],
             [
              0.4444444444444444,
              "#26828e"
             ],
             [
              0.5555555555555556,
              "#1f9e89"
             ],
             [
              0.6666666666666666,
              "#35b779"
             ],
             [
              0.7777777777777778,
              "#6ece58"
             ],
             [
              0.8888888888888888,
              "#b5de2b"
             ],
             [
              1,
              "#fde725"
             ]
            ],
            "type": "contour"
           }
          ],
          "contourcarpet": [
           {
            "colorbar": {
             "outlinewidth": 1,
             "tickcolor": "rgb(36,36,36)",
             "ticks": "outside"
            },
            "type": "contourcarpet"
           }
          ],
          "heatmap": [
           {
            "colorbar": {
             "outlinewidth": 1,
             "tickcolor": "rgb(36,36,36)",
             "ticks": "outside"
            },
            "colorscale": [
             [
              0,
              "#440154"
             ],
             [
              0.1111111111111111,
              "#482878"
             ],
             [
              0.2222222222222222,
              "#3e4989"
             ],
             [
              0.3333333333333333,
              "#31688e"
             ],
             [
              0.4444444444444444,
              "#26828e"
             ],
             [
              0.5555555555555556,
              "#1f9e89"
             ],
             [
              0.6666666666666666,
              "#35b779"
             ],
             [
              0.7777777777777778,
              "#6ece58"
             ],
             [
              0.8888888888888888,
              "#b5de2b"
             ],
             [
              1,
              "#fde725"
             ]
            ],
            "type": "heatmap"
           }
          ],
          "heatmapgl": [
           {
            "colorbar": {
             "outlinewidth": 1,
             "tickcolor": "rgb(36,36,36)",
             "ticks": "outside"
            },
            "colorscale": [
             [
              0,
              "#440154"
             ],
             [
              0.1111111111111111,
              "#482878"
             ],
             [
              0.2222222222222222,
              "#3e4989"
             ],
             [
              0.3333333333333333,
              "#31688e"
             ],
             [
              0.4444444444444444,
              "#26828e"
             ],
             [
              0.5555555555555556,
              "#1f9e89"
             ],
             [
              0.6666666666666666,
              "#35b779"
             ],
             [
              0.7777777777777778,
              "#6ece58"
             ],
             [
              0.8888888888888888,
              "#b5de2b"
             ],
             [
              1,
              "#fde725"
             ]
            ],
            "type": "heatmapgl"
           }
          ],
          "histogram": [
           {
            "marker": {
             "line": {
              "color": "white",
              "width": 0.6
             }
            },
            "type": "histogram"
           }
          ],
          "histogram2d": [
           {
            "colorbar": {
             "outlinewidth": 1,
             "tickcolor": "rgb(36,36,36)",
             "ticks": "outside"
            },
            "colorscale": [
             [
              0,
              "#440154"
             ],
             [
              0.1111111111111111,
              "#482878"
             ],
             [
              0.2222222222222222,
              "#3e4989"
             ],
             [
              0.3333333333333333,
              "#31688e"
             ],
             [
              0.4444444444444444,
              "#26828e"
             ],
             [
              0.5555555555555556,
              "#1f9e89"
             ],
             [
              0.6666666666666666,
              "#35b779"
             ],
             [
              0.7777777777777778,
              "#6ece58"
             ],
             [
              0.8888888888888888,
              "#b5de2b"
             ],
             [
              1,
              "#fde725"
             ]
            ],
            "type": "histogram2d"
           }
          ],
          "histogram2dcontour": [
           {
            "colorbar": {
             "outlinewidth": 1,
             "tickcolor": "rgb(36,36,36)",
             "ticks": "outside"
            },
            "colorscale": [
             [
              0,
              "#440154"
             ],
             [
              0.1111111111111111,
              "#482878"
             ],
             [
              0.2222222222222222,
              "#3e4989"
             ],
             [
              0.3333333333333333,
              "#31688e"
             ],
             [
              0.4444444444444444,
              "#26828e"
             ],
             [
              0.5555555555555556,
              "#1f9e89"
             ],
             [
              0.6666666666666666,
              "#35b779"
             ],
             [
              0.7777777777777778,
              "#6ece58"
             ],
             [
              0.8888888888888888,
              "#b5de2b"
             ],
             [
              1,
              "#fde725"
             ]
            ],
            "type": "histogram2dcontour"
           }
          ],
          "mesh3d": [
           {
            "colorbar": {
             "outlinewidth": 1,
             "tickcolor": "rgb(36,36,36)",
             "ticks": "outside"
            },
            "type": "mesh3d"
           }
          ],
          "parcoords": [
           {
            "line": {
             "colorbar": {
              "outlinewidth": 1,
              "tickcolor": "rgb(36,36,36)",
              "ticks": "outside"
             }
            },
            "type": "parcoords"
           }
          ],
          "pie": [
           {
            "automargin": true,
            "type": "pie"
           }
          ],
          "scatter": [
           {
            "marker": {
             "colorbar": {
              "outlinewidth": 1,
              "tickcolor": "rgb(36,36,36)",
              "ticks": "outside"
             }
            },
            "type": "scatter"
           }
          ],
          "scatter3d": [
           {
            "line": {
             "colorbar": {
              "outlinewidth": 1,
              "tickcolor": "rgb(36,36,36)",
              "ticks": "outside"
             }
            },
            "marker": {
             "colorbar": {
              "outlinewidth": 1,
              "tickcolor": "rgb(36,36,36)",
              "ticks": "outside"
             }
            },
            "type": "scatter3d"
           }
          ],
          "scattercarpet": [
           {
            "marker": {
             "colorbar": {
              "outlinewidth": 1,
              "tickcolor": "rgb(36,36,36)",
              "ticks": "outside"
             }
            },
            "type": "scattercarpet"
           }
          ],
          "scattergeo": [
           {
            "marker": {
             "colorbar": {
              "outlinewidth": 1,
              "tickcolor": "rgb(36,36,36)",
              "ticks": "outside"
             }
            },
            "type": "scattergeo"
           }
          ],
          "scattergl": [
           {
            "marker": {
             "colorbar": {
              "outlinewidth": 1,
              "tickcolor": "rgb(36,36,36)",
              "ticks": "outside"
             }
            },
            "type": "scattergl"
           }
          ],
          "scattermapbox": [
           {
            "marker": {
             "colorbar": {
              "outlinewidth": 1,
              "tickcolor": "rgb(36,36,36)",
              "ticks": "outside"
             }
            },
            "type": "scattermapbox"
           }
          ],
          "scatterpolar": [
           {
            "marker": {
             "colorbar": {
              "outlinewidth": 1,
              "tickcolor": "rgb(36,36,36)",
              "ticks": "outside"
             }
            },
            "type": "scatterpolar"
           }
          ],
          "scatterpolargl": [
           {
            "marker": {
             "colorbar": {
              "outlinewidth": 1,
              "tickcolor": "rgb(36,36,36)",
              "ticks": "outside"
             }
            },
            "type": "scatterpolargl"
           }
          ],
          "scatterternary": [
           {
            "marker": {
             "colorbar": {
              "outlinewidth": 1,
              "tickcolor": "rgb(36,36,36)",
              "ticks": "outside"
             }
            },
            "type": "scatterternary"
           }
          ],
          "surface": [
           {
            "colorbar": {
             "outlinewidth": 1,
             "tickcolor": "rgb(36,36,36)",
             "ticks": "outside"
            },
            "colorscale": [
             [
              0,
              "#440154"
             ],
             [
              0.1111111111111111,
              "#482878"
             ],
             [
              0.2222222222222222,
              "#3e4989"
             ],
             [
              0.3333333333333333,
              "#31688e"
             ],
             [
              0.4444444444444444,
              "#26828e"
             ],
             [
              0.5555555555555556,
              "#1f9e89"
             ],
             [
              0.6666666666666666,
              "#35b779"
             ],
             [
              0.7777777777777778,
              "#6ece58"
             ],
             [
              0.8888888888888888,
              "#b5de2b"
             ],
             [
              1,
              "#fde725"
             ]
            ],
            "type": "surface"
           }
          ],
          "table": [
           {
            "cells": {
             "fill": {
              "color": "rgb(237,237,237)"
             },
             "line": {
              "color": "white"
             }
            },
            "header": {
             "fill": {
              "color": "rgb(217,217,217)"
             },
             "line": {
              "color": "white"
             }
            },
            "type": "table"
           }
          ]
         },
         "layout": {
          "annotationdefaults": {
           "arrowhead": 0,
           "arrowwidth": 1
          },
          "autotypenumbers": "strict",
          "coloraxis": {
           "colorbar": {
            "outlinewidth": 1,
            "tickcolor": "rgb(36,36,36)",
            "ticks": "outside"
           }
          },
          "colorscale": {
           "diverging": [
            [
             0,
             "rgb(103,0,31)"
            ],
            [
             0.1,
             "rgb(178,24,43)"
            ],
            [
             0.2,
             "rgb(214,96,77)"
            ],
            [
             0.3,
             "rgb(244,165,130)"
            ],
            [
             0.4,
             "rgb(253,219,199)"
            ],
            [
             0.5,
             "rgb(247,247,247)"
            ],
            [
             0.6,
             "rgb(209,229,240)"
            ],
            [
             0.7,
             "rgb(146,197,222)"
            ],
            [
             0.8,
             "rgb(67,147,195)"
            ],
            [
             0.9,
             "rgb(33,102,172)"
            ],
            [
             1,
             "rgb(5,48,97)"
            ]
           ],
           "sequential": [
            [
             0,
             "#440154"
            ],
            [
             0.1111111111111111,
             "#482878"
            ],
            [
             0.2222222222222222,
             "#3e4989"
            ],
            [
             0.3333333333333333,
             "#31688e"
            ],
            [
             0.4444444444444444,
             "#26828e"
            ],
            [
             0.5555555555555556,
             "#1f9e89"
            ],
            [
             0.6666666666666666,
             "#35b779"
            ],
            [
             0.7777777777777778,
             "#6ece58"
            ],
            [
             0.8888888888888888,
             "#b5de2b"
            ],
            [
             1,
             "#fde725"
            ]
           ],
           "sequentialminus": [
            [
             0,
             "#440154"
            ],
            [
             0.1111111111111111,
             "#482878"
            ],
            [
             0.2222222222222222,
             "#3e4989"
            ],
            [
             0.3333333333333333,
             "#31688e"
            ],
            [
             0.4444444444444444,
             "#26828e"
            ],
            [
             0.5555555555555556,
             "#1f9e89"
            ],
            [
             0.6666666666666666,
             "#35b779"
            ],
            [
             0.7777777777777778,
             "#6ece58"
            ],
            [
             0.8888888888888888,
             "#b5de2b"
            ],
            [
             1,
             "#fde725"
            ]
           ]
          },
          "colorway": [
           "#1F77B4",
           "#FF7F0E",
           "#2CA02C",
           "#D62728",
           "#9467BD",
           "#8C564B",
           "#E377C2",
           "#7F7F7F",
           "#BCBD22",
           "#17BECF"
          ],
          "font": {
           "color": "rgb(36,36,36)"
          },
          "geo": {
           "bgcolor": "white",
           "lakecolor": "white",
           "landcolor": "white",
           "showlakes": true,
           "showland": true,
           "subunitcolor": "white"
          },
          "hoverlabel": {
           "align": "left"
          },
          "hovermode": "closest",
          "mapbox": {
           "style": "light"
          },
          "paper_bgcolor": "white",
          "plot_bgcolor": "white",
          "polar": {
           "angularaxis": {
            "gridcolor": "rgb(232,232,232)",
            "linecolor": "rgb(36,36,36)",
            "showgrid": false,
            "showline": true,
            "ticks": "outside"
           },
           "bgcolor": "white",
           "radialaxis": {
            "gridcolor": "rgb(232,232,232)",
            "linecolor": "rgb(36,36,36)",
            "showgrid": false,
            "showline": true,
            "ticks": "outside"
           }
          },
          "scene": {
           "xaxis": {
            "backgroundcolor": "white",
            "gridcolor": "rgb(232,232,232)",
            "gridwidth": 2,
            "linecolor": "rgb(36,36,36)",
            "showbackground": true,
            "showgrid": false,
            "showline": true,
            "ticks": "outside",
            "zeroline": false,
            "zerolinecolor": "rgb(36,36,36)"
           },
           "yaxis": {
            "backgroundcolor": "white",
            "gridcolor": "rgb(232,232,232)",
            "gridwidth": 2,
            "linecolor": "rgb(36,36,36)",
            "showbackground": true,
            "showgrid": false,
            "showline": true,
            "ticks": "outside",
            "zeroline": false,
            "zerolinecolor": "rgb(36,36,36)"
           },
           "zaxis": {
            "backgroundcolor": "white",
            "gridcolor": "rgb(232,232,232)",
            "gridwidth": 2,
            "linecolor": "rgb(36,36,36)",
            "showbackground": true,
            "showgrid": false,
            "showline": true,
            "ticks": "outside",
            "zeroline": false,
            "zerolinecolor": "rgb(36,36,36)"
           }
          },
          "shapedefaults": {
           "fillcolor": "black",
           "line": {
            "width": 0
           },
           "opacity": 0.3
          },
          "ternary": {
           "aaxis": {
            "gridcolor": "rgb(232,232,232)",
            "linecolor": "rgb(36,36,36)",
            "showgrid": false,
            "showline": true,
            "ticks": "outside"
           },
           "baxis": {
            "gridcolor": "rgb(232,232,232)",
            "linecolor": "rgb(36,36,36)",
            "showgrid": false,
            "showline": true,
            "ticks": "outside"
           },
           "bgcolor": "white",
           "caxis": {
            "gridcolor": "rgb(232,232,232)",
            "linecolor": "rgb(36,36,36)",
            "showgrid": false,
            "showline": true,
            "ticks": "outside"
           }
          },
          "title": {
           "x": 0.05
          },
          "xaxis": {
           "automargin": true,
           "gridcolor": "rgb(232,232,232)",
           "linecolor": "rgb(36,36,36)",
           "showgrid": false,
           "showline": true,
           "ticks": "outside",
           "title": {
            "standoff": 15
           },
           "zeroline": false,
           "zerolinecolor": "rgb(36,36,36)"
          },
          "yaxis": {
           "automargin": true,
           "gridcolor": "rgb(232,232,232)",
           "linecolor": "rgb(36,36,36)",
           "showgrid": false,
           "showline": true,
           "ticks": "outside",
           "title": {
            "standoff": 15
           },
           "zeroline": false,
           "zerolinecolor": "rgb(36,36,36)"
          }
         }
        },
        "xaxis": {
         "anchor": "y",
         "domain": [
          0,
          1
         ],
         "title": {
          "text": "nestablecimiento"
         }
        },
        "yaxis": {
         "anchor": "x",
         "domain": [
          0,
          1
         ],
         "title": {
          "text": "value"
         }
        }
       }
      }
     },
     "metadata": {},
     "output_type": "display_data"
    }
   ],
   "source": [
    "def get_bar_top5(data,region):\n",
    "    data_id = data[data['Código Región']==region]\n",
    "    data_id = data_id.groupby(by=['idestablecimiento','nestablecimiento'],as_index=False).sum().sort_values(by='total',ascending=False)[:5]\n",
    "    fig = px.bar(data_id, x=data_id.nestablecimiento,y=['Menor a 1 año','De 1 a 4 años','De 5 a 14 años','de 15 a 64 años','65 años y más'], template=\"simple_white\")\n",
    "    return fig\n",
    "get_bar_top5(resumen_semanal,5)"
   ]
  },
  {
   "cell_type": "code",
   "execution_count": 16,
   "metadata": {},
   "outputs": [
    {
     "data": {
      "application/vnd.plotly.v1+json": {
       "config": {
        "plotlyServerURL": "https://plot.ly"
       },
       "data": [
        {
         "domain": {
          "x": [
           0,
           1
          ],
          "y": [
           0,
           1
          ]
         },
         "hole": 0.3,
         "hovertemplate": "variable=%{label}<br>count=%{value}<extra></extra>",
         "labels": [
          "Menor a 1 año",
          "De 1 a 4 años",
          "De 5 a 14 años",
          "de 15 a 64 años",
          "65 años y más"
         ],
         "legendgroup": "",
         "name": "",
         "showlegend": true,
         "type": "pie",
         "values": [
          151965,
          460503,
          523642,
          1250107,
          282942
         ]
        }
       ],
       "layout": {
        "legend": {
         "tracegroupgap": 0
        },
        "margin": {
         "t": 60
        },
        "template": {
         "data": {
          "bar": [
           {
            "error_x": {
             "color": "#2a3f5f"
            },
            "error_y": {
             "color": "#2a3f5f"
            },
            "marker": {
             "line": {
              "color": "#E5ECF6",
              "width": 0.5
             },
             "pattern": {
              "fillmode": "overlay",
              "size": 10,
              "solidity": 0.2
             }
            },
            "type": "bar"
           }
          ],
          "barpolar": [
           {
            "marker": {
             "line": {
              "color": "#E5ECF6",
              "width": 0.5
             },
             "pattern": {
              "fillmode": "overlay",
              "size": 10,
              "solidity": 0.2
             }
            },
            "type": "barpolar"
           }
          ],
          "carpet": [
           {
            "aaxis": {
             "endlinecolor": "#2a3f5f",
             "gridcolor": "white",
             "linecolor": "white",
             "minorgridcolor": "white",
             "startlinecolor": "#2a3f5f"
            },
            "baxis": {
             "endlinecolor": "#2a3f5f",
             "gridcolor": "white",
             "linecolor": "white",
             "minorgridcolor": "white",
             "startlinecolor": "#2a3f5f"
            },
            "type": "carpet"
           }
          ],
          "choropleth": [
           {
            "colorbar": {
             "outlinewidth": 0,
             "ticks": ""
            },
            "type": "choropleth"
           }
          ],
          "contour": [
           {
            "colorbar": {
             "outlinewidth": 0,
             "ticks": ""
            },
            "colorscale": [
             [
              0,
              "#0d0887"
             ],
             [
              0.1111111111111111,
              "#46039f"
             ],
             [
              0.2222222222222222,
              "#7201a8"
             ],
             [
              0.3333333333333333,
              "#9c179e"
             ],
             [
              0.4444444444444444,
              "#bd3786"
             ],
             [
              0.5555555555555556,
              "#d8576b"
             ],
             [
              0.6666666666666666,
              "#ed7953"
             ],
             [
              0.7777777777777778,
              "#fb9f3a"
             ],
             [
              0.8888888888888888,
              "#fdca26"
             ],
             [
              1,
              "#f0f921"
             ]
            ],
            "type": "contour"
           }
          ],
          "contourcarpet": [
           {
            "colorbar": {
             "outlinewidth": 0,
             "ticks": ""
            },
            "type": "contourcarpet"
           }
          ],
          "heatmap": [
           {
            "colorbar": {
             "outlinewidth": 0,
             "ticks": ""
            },
            "colorscale": [
             [
              0,
              "#0d0887"
             ],
             [
              0.1111111111111111,
              "#46039f"
             ],
             [
              0.2222222222222222,
              "#7201a8"
             ],
             [
              0.3333333333333333,
              "#9c179e"
             ],
             [
              0.4444444444444444,
              "#bd3786"
             ],
             [
              0.5555555555555556,
              "#d8576b"
             ],
             [
              0.6666666666666666,
              "#ed7953"
             ],
             [
              0.7777777777777778,
              "#fb9f3a"
             ],
             [
              0.8888888888888888,
              "#fdca26"
             ],
             [
              1,
              "#f0f921"
             ]
            ],
            "type": "heatmap"
           }
          ],
          "heatmapgl": [
           {
            "colorbar": {
             "outlinewidth": 0,
             "ticks": ""
            },
            "colorscale": [
             [
              0,
              "#0d0887"
             ],
             [
              0.1111111111111111,
              "#46039f"
             ],
             [
              0.2222222222222222,
              "#7201a8"
             ],
             [
              0.3333333333333333,
              "#9c179e"
             ],
             [
              0.4444444444444444,
              "#bd3786"
             ],
             [
              0.5555555555555556,
              "#d8576b"
             ],
             [
              0.6666666666666666,
              "#ed7953"
             ],
             [
              0.7777777777777778,
              "#fb9f3a"
             ],
             [
              0.8888888888888888,
              "#fdca26"
             ],
             [
              1,
              "#f0f921"
             ]
            ],
            "type": "heatmapgl"
           }
          ],
          "histogram": [
           {
            "marker": {
             "pattern": {
              "fillmode": "overlay",
              "size": 10,
              "solidity": 0.2
             }
            },
            "type": "histogram"
           }
          ],
          "histogram2d": [
           {
            "colorbar": {
             "outlinewidth": 0,
             "ticks": ""
            },
            "colorscale": [
             [
              0,
              "#0d0887"
             ],
             [
              0.1111111111111111,
              "#46039f"
             ],
             [
              0.2222222222222222,
              "#7201a8"
             ],
             [
              0.3333333333333333,
              "#9c179e"
             ],
             [
              0.4444444444444444,
              "#bd3786"
             ],
             [
              0.5555555555555556,
              "#d8576b"
             ],
             [
              0.6666666666666666,
              "#ed7953"
             ],
             [
              0.7777777777777778,
              "#fb9f3a"
             ],
             [
              0.8888888888888888,
              "#fdca26"
             ],
             [
              1,
              "#f0f921"
             ]
            ],
            "type": "histogram2d"
           }
          ],
          "histogram2dcontour": [
           {
            "colorbar": {
             "outlinewidth": 0,
             "ticks": ""
            },
            "colorscale": [
             [
              0,
              "#0d0887"
             ],
             [
              0.1111111111111111,
              "#46039f"
             ],
             [
              0.2222222222222222,
              "#7201a8"
             ],
             [
              0.3333333333333333,
              "#9c179e"
             ],
             [
              0.4444444444444444,
              "#bd3786"
             ],
             [
              0.5555555555555556,
              "#d8576b"
             ],
             [
              0.6666666666666666,
              "#ed7953"
             ],
             [
              0.7777777777777778,
              "#fb9f3a"
             ],
             [
              0.8888888888888888,
              "#fdca26"
             ],
             [
              1,
              "#f0f921"
             ]
            ],
            "type": "histogram2dcontour"
           }
          ],
          "mesh3d": [
           {
            "colorbar": {
             "outlinewidth": 0,
             "ticks": ""
            },
            "type": "mesh3d"
           }
          ],
          "parcoords": [
           {
            "line": {
             "colorbar": {
              "outlinewidth": 0,
              "ticks": ""
             }
            },
            "type": "parcoords"
           }
          ],
          "pie": [
           {
            "automargin": true,
            "type": "pie"
           }
          ],
          "scatter": [
           {
            "marker": {
             "colorbar": {
              "outlinewidth": 0,
              "ticks": ""
             }
            },
            "type": "scatter"
           }
          ],
          "scatter3d": [
           {
            "line": {
             "colorbar": {
              "outlinewidth": 0,
              "ticks": ""
             }
            },
            "marker": {
             "colorbar": {
              "outlinewidth": 0,
              "ticks": ""
             }
            },
            "type": "scatter3d"
           }
          ],
          "scattercarpet": [
           {
            "marker": {
             "colorbar": {
              "outlinewidth": 0,
              "ticks": ""
             }
            },
            "type": "scattercarpet"
           }
          ],
          "scattergeo": [
           {
            "marker": {
             "colorbar": {
              "outlinewidth": 0,
              "ticks": ""
             }
            },
            "type": "scattergeo"
           }
          ],
          "scattergl": [
           {
            "marker": {
             "colorbar": {
              "outlinewidth": 0,
              "ticks": ""
             }
            },
            "type": "scattergl"
           }
          ],
          "scattermapbox": [
           {
            "marker": {
             "colorbar": {
              "outlinewidth": 0,
              "ticks": ""
             }
            },
            "type": "scattermapbox"
           }
          ],
          "scatterpolar": [
           {
            "marker": {
             "colorbar": {
              "outlinewidth": 0,
              "ticks": ""
             }
            },
            "type": "scatterpolar"
           }
          ],
          "scatterpolargl": [
           {
            "marker": {
             "colorbar": {
              "outlinewidth": 0,
              "ticks": ""
             }
            },
            "type": "scatterpolargl"
           }
          ],
          "scatterternary": [
           {
            "marker": {
             "colorbar": {
              "outlinewidth": 0,
              "ticks": ""
             }
            },
            "type": "scatterternary"
           }
          ],
          "surface": [
           {
            "colorbar": {
             "outlinewidth": 0,
             "ticks": ""
            },
            "colorscale": [
             [
              0,
              "#0d0887"
             ],
             [
              0.1111111111111111,
              "#46039f"
             ],
             [
              0.2222222222222222,
              "#7201a8"
             ],
             [
              0.3333333333333333,
              "#9c179e"
             ],
             [
              0.4444444444444444,
              "#bd3786"
             ],
             [
              0.5555555555555556,
              "#d8576b"
             ],
             [
              0.6666666666666666,
              "#ed7953"
             ],
             [
              0.7777777777777778,
              "#fb9f3a"
             ],
             [
              0.8888888888888888,
              "#fdca26"
             ],
             [
              1,
              "#f0f921"
             ]
            ],
            "type": "surface"
           }
          ],
          "table": [
           {
            "cells": {
             "fill": {
              "color": "#EBF0F8"
             },
             "line": {
              "color": "white"
             }
            },
            "header": {
             "fill": {
              "color": "#C8D4E3"
             },
             "line": {
              "color": "white"
             }
            },
            "type": "table"
           }
          ]
         },
         "layout": {
          "annotationdefaults": {
           "arrowcolor": "#2a3f5f",
           "arrowhead": 0,
           "arrowwidth": 1
          },
          "autotypenumbers": "strict",
          "coloraxis": {
           "colorbar": {
            "outlinewidth": 0,
            "ticks": ""
           }
          },
          "colorscale": {
           "diverging": [
            [
             0,
             "#8e0152"
            ],
            [
             0.1,
             "#c51b7d"
            ],
            [
             0.2,
             "#de77ae"
            ],
            [
             0.3,
             "#f1b6da"
            ],
            [
             0.4,
             "#fde0ef"
            ],
            [
             0.5,
             "#f7f7f7"
            ],
            [
             0.6,
             "#e6f5d0"
            ],
            [
             0.7,
             "#b8e186"
            ],
            [
             0.8,
             "#7fbc41"
            ],
            [
             0.9,
             "#4d9221"
            ],
            [
             1,
             "#276419"
            ]
           ],
           "sequential": [
            [
             0,
             "#0d0887"
            ],
            [
             0.1111111111111111,
             "#46039f"
            ],
            [
             0.2222222222222222,
             "#7201a8"
            ],
            [
             0.3333333333333333,
             "#9c179e"
            ],
            [
             0.4444444444444444,
             "#bd3786"
            ],
            [
             0.5555555555555556,
             "#d8576b"
            ],
            [
             0.6666666666666666,
             "#ed7953"
            ],
            [
             0.7777777777777778,
             "#fb9f3a"
            ],
            [
             0.8888888888888888,
             "#fdca26"
            ],
            [
             1,
             "#f0f921"
            ]
           ],
           "sequentialminus": [
            [
             0,
             "#0d0887"
            ],
            [
             0.1111111111111111,
             "#46039f"
            ],
            [
             0.2222222222222222,
             "#7201a8"
            ],
            [
             0.3333333333333333,
             "#9c179e"
            ],
            [
             0.4444444444444444,
             "#bd3786"
            ],
            [
             0.5555555555555556,
             "#d8576b"
            ],
            [
             0.6666666666666666,
             "#ed7953"
            ],
            [
             0.7777777777777778,
             "#fb9f3a"
            ],
            [
             0.8888888888888888,
             "#fdca26"
            ],
            [
             1,
             "#f0f921"
            ]
           ]
          },
          "colorway": [
           "#636efa",
           "#EF553B",
           "#00cc96",
           "#ab63fa",
           "#FFA15A",
           "#19d3f3",
           "#FF6692",
           "#B6E880",
           "#FF97FF",
           "#FECB52"
          ],
          "font": {
           "color": "#2a3f5f"
          },
          "geo": {
           "bgcolor": "white",
           "lakecolor": "white",
           "landcolor": "#E5ECF6",
           "showlakes": true,
           "showland": true,
           "subunitcolor": "white"
          },
          "hoverlabel": {
           "align": "left"
          },
          "hovermode": "closest",
          "mapbox": {
           "style": "light"
          },
          "paper_bgcolor": "white",
          "plot_bgcolor": "#E5ECF6",
          "polar": {
           "angularaxis": {
            "gridcolor": "white",
            "linecolor": "white",
            "ticks": ""
           },
           "bgcolor": "#E5ECF6",
           "radialaxis": {
            "gridcolor": "white",
            "linecolor": "white",
            "ticks": ""
           }
          },
          "scene": {
           "xaxis": {
            "backgroundcolor": "#E5ECF6",
            "gridcolor": "white",
            "gridwidth": 2,
            "linecolor": "white",
            "showbackground": true,
            "ticks": "",
            "zerolinecolor": "white"
           },
           "yaxis": {
            "backgroundcolor": "#E5ECF6",
            "gridcolor": "white",
            "gridwidth": 2,
            "linecolor": "white",
            "showbackground": true,
            "ticks": "",
            "zerolinecolor": "white"
           },
           "zaxis": {
            "backgroundcolor": "#E5ECF6",
            "gridcolor": "white",
            "gridwidth": 2,
            "linecolor": "white",
            "showbackground": true,
            "ticks": "",
            "zerolinecolor": "white"
           }
          },
          "shapedefaults": {
           "line": {
            "color": "#2a3f5f"
           }
          },
          "ternary": {
           "aaxis": {
            "gridcolor": "white",
            "linecolor": "white",
            "ticks": ""
           },
           "baxis": {
            "gridcolor": "white",
            "linecolor": "white",
            "ticks": ""
           },
           "bgcolor": "#E5ECF6",
           "caxis": {
            "gridcolor": "white",
            "linecolor": "white",
            "ticks": ""
           }
          },
          "title": {
           "x": 0.05
          },
          "xaxis": {
           "automargin": true,
           "gridcolor": "white",
           "linecolor": "white",
           "ticks": "",
           "title": {
            "standoff": 15
           },
           "zerolinecolor": "white",
           "zerolinewidth": 2
          },
          "yaxis": {
           "automargin": true,
           "gridcolor": "white",
           "linecolor": "white",
           "ticks": "",
           "title": {
            "standoff": 15
           },
           "zerolinecolor": "white",
           "zerolinewidth": 2
          }
         }
        }
       }
      }
     },
     "metadata": {},
     "output_type": "display_data"
    }
   ],
   "source": [
    "def get_pie(data,region):\n",
    "    data_id = data[data['Código Región']==region]\n",
    "    data_id = data_id.groupby(by=['Código Región'],as_index=False).sum().sort_values(by='total',ascending=False)\n",
    "    data_id.drop(columns=['semana','Idcausa','total'],inplace=True)\n",
    "    data_long = data_id.melt(id_vars='Código Región',value_name='count')\n",
    "    fig = px.pie(data_long, values='count', names='variable', hole =.3)\n",
    "    return fig\n",
    "get_pie(resumen_semanal,13)"
   ]
  },
  {
   "cell_type": "code",
   "execution_count": 17,
   "metadata": {},
   "outputs": [
    {
     "data": {
      "text/plain": [
       "Index(['idestablecimiento', 'nestablecimiento', 'Idcausa', 'glosacausa',\n",
       "       'total', 'Menor a 1 año', 'De 1 a 4 años', 'De 5 a 14 años',\n",
       "       'de 15 a 64 años', '65 años y más', 'fecha', 'semana',\n",
       "       'GLOSATIPOESTABLECIMIENTO', 'GLOSATIPOATENCION', 'GlosaTipoCampana',\n",
       "       'Código Antiguo ', 'Código Región', 'Nombre Región',\n",
       "       'Código Dependencia Jerárquica (SEREMI / Servicio de Salud)',\n",
       "       'Nombre Dependencia Jerárquica (SEREMI / Servicio de Salud)',\n",
       "       'Pertenencia al SNSS', 'Tipo Establecimiento',\n",
       "       'Ámbito de Funcionamiento', 'Nombre Oficial', 'Certificación ',\n",
       "       'Dependencia Administrativa', 'Nivel de Atención', 'Código Comuna',\n",
       "       'Nombre Comuna', 'Vía', 'Número', 'Dirección', 'Teléfono',\n",
       "       'Fecha Inicio Funcionamiento', 'Tiene Servicio de Urgencia',\n",
       "       'Tipo de Urgencia ', 'Tipo de SAPU', 'LATITUD      [Grados decimales]',\n",
       "       'LONGITUD [Grados decimales]', 'Tipo de Prestador Sistema de Salud',\n",
       "       'Estado de Funcionamiento', 'Nivel de Complejidad',\n",
       "       'Modalidad de Atención '],\n",
       "      dtype='object')"
      ]
     },
     "execution_count": 17,
     "metadata": {},
     "output_type": "execute_result"
    }
   ],
   "source": [
    "df3.columns"
   ]
  },
  {
   "cell_type": "code",
   "execution_count": 18,
   "metadata": {},
   "outputs": [
    {
     "data": {
      "text/plain": [
       "array([ 1.,  2.,  3.,  4.,  5.,  6.,  7.,  8.,  9., 10., 11., 12., 13.,\n",
       "       14., 15., 16.])"
      ]
     },
     "execution_count": 18,
     "metadata": {},
     "output_type": "execute_result"
    }
   ],
   "source": [
    "b= df3['Código Región'].unique()\n",
    "b.sort()\n",
    "b"
   ]
  },
  {
   "cell_type": "code",
   "execution_count": 19,
   "metadata": {},
   "outputs": [
    {
     "data": {
      "text/html": [
       "<div>\n",
       "<style scoped>\n",
       "    .dataframe tbody tr th:only-of-type {\n",
       "        vertical-align: middle;\n",
       "    }\n",
       "\n",
       "    .dataframe tbody tr th {\n",
       "        vertical-align: top;\n",
       "    }\n",
       "\n",
       "    .dataframe thead th {\n",
       "        text-align: right;\n",
       "    }\n",
       "</style>\n",
       "<table border=\"1\" class=\"dataframe\">\n",
       "  <thead>\n",
       "    <tr style=\"text-align: right;\">\n",
       "      <th></th>\n",
       "      <th>nestablecimiento</th>\n",
       "      <th>idestablecimiento</th>\n",
       "      <th>glosacausa</th>\n",
       "      <th>LATITUD      [Grados decimales]</th>\n",
       "      <th>LONGITUD [Grados decimales]</th>\n",
       "      <th>Código Región</th>\n",
       "      <th>Idcausa</th>\n",
       "      <th>total</th>\n",
       "      <th>Menor a 1 año</th>\n",
       "      <th>De 1 a 4 años</th>\n",
       "      <th>De 5 a 14 años</th>\n",
       "      <th>de 15 a 64 años</th>\n",
       "      <th>65 años y más</th>\n",
       "      <th>semana</th>\n",
       "    </tr>\n",
       "  </thead>\n",
       "  <tbody>\n",
       "    <tr>\n",
       "      <th>0</th>\n",
       "      <td>Centro de Salud  Familiar Laraquete</td>\n",
       "      <td>28-414</td>\n",
       "      <td>Accidente vascular encefálico</td>\n",
       "      <td>-37.167861</td>\n",
       "      <td>-73.187097</td>\n",
       "      <td>8.0</td>\n",
       "      <td>5054</td>\n",
       "      <td>3</td>\n",
       "      <td>0</td>\n",
       "      <td>0</td>\n",
       "      <td>0</td>\n",
       "      <td>2</td>\n",
       "      <td>1</td>\n",
       "      <td>9585</td>\n",
       "    </tr>\n",
       "    <tr>\n",
       "      <th>1</th>\n",
       "      <td>Centro de Salud  Familiar Laraquete</td>\n",
       "      <td>28-414</td>\n",
       "      <td>Accidentes del tránsito</td>\n",
       "      <td>-37.167861</td>\n",
       "      <td>-73.187097</td>\n",
       "      <td>8.0</td>\n",
       "      <td>6859</td>\n",
       "      <td>0</td>\n",
       "      <td>0</td>\n",
       "      <td>0</td>\n",
       "      <td>0</td>\n",
       "      <td>0</td>\n",
       "      <td>0</td>\n",
       "      <td>9585</td>\n",
       "    </tr>\n",
       "    <tr>\n",
       "      <th>2</th>\n",
       "      <td>Centro de Salud  Familiar Laraquete</td>\n",
       "      <td>28-414</td>\n",
       "      <td>Arritmia grave</td>\n",
       "      <td>-37.167861</td>\n",
       "      <td>-73.187097</td>\n",
       "      <td>8.0</td>\n",
       "      <td>5776</td>\n",
       "      <td>1</td>\n",
       "      <td>0</td>\n",
       "      <td>0</td>\n",
       "      <td>0</td>\n",
       "      <td>1</td>\n",
       "      <td>0</td>\n",
       "      <td>9585</td>\n",
       "    </tr>\n",
       "    <tr>\n",
       "      <th>3</th>\n",
       "      <td>Centro de Salud  Familiar Laraquete</td>\n",
       "      <td>28-414</td>\n",
       "      <td>Bronquitis/bronquiolitis aguda (J20-J21)</td>\n",
       "      <td>-37.167861</td>\n",
       "      <td>-73.187097</td>\n",
       "      <td>8.0</td>\n",
       "      <td>1083</td>\n",
       "      <td>219</td>\n",
       "      <td>7</td>\n",
       "      <td>57</td>\n",
       "      <td>51</td>\n",
       "      <td>83</td>\n",
       "      <td>21</td>\n",
       "      <td>9585</td>\n",
       "    </tr>\n",
       "    <tr>\n",
       "      <th>4</th>\n",
       "      <td>Centro de Salud  Familiar Laraquete</td>\n",
       "      <td>28-414</td>\n",
       "      <td>Crisis hipertensiva</td>\n",
       "      <td>-37.167861</td>\n",
       "      <td>-73.187097</td>\n",
       "      <td>8.0</td>\n",
       "      <td>5415</td>\n",
       "      <td>0</td>\n",
       "      <td>0</td>\n",
       "      <td>0</td>\n",
       "      <td>0</td>\n",
       "      <td>0</td>\n",
       "      <td>0</td>\n",
       "      <td>9585</td>\n",
       "    </tr>\n",
       "    <tr>\n",
       "      <th>...</th>\n",
       "      <td>...</td>\n",
       "      <td>...</td>\n",
       "      <td>...</td>\n",
       "      <td>...</td>\n",
       "      <td>...</td>\n",
       "      <td>...</td>\n",
       "      <td>...</td>\n",
       "      <td>...</td>\n",
       "      <td>...</td>\n",
       "      <td>...</td>\n",
       "      <td>...</td>\n",
       "      <td>...</td>\n",
       "      <td>...</td>\n",
       "      <td>...</td>\n",
       "    </tr>\n",
       "    <tr>\n",
       "      <th>6337</th>\n",
       "      <td>SAR Víctor Manuel Fernández</td>\n",
       "      <td>18-902</td>\n",
       "      <td>Influenza (J09-J11)</td>\n",
       "      <td>-36.816576</td>\n",
       "      <td>-73.032147</td>\n",
       "      <td>8.0</td>\n",
       "      <td>1440</td>\n",
       "      <td>219</td>\n",
       "      <td>0</td>\n",
       "      <td>21</td>\n",
       "      <td>37</td>\n",
       "      <td>140</td>\n",
       "      <td>21</td>\n",
       "      <td>9502</td>\n",
       "    </tr>\n",
       "    <tr>\n",
       "      <th>6338</th>\n",
       "      <td>SAR Víctor Manuel Fernández</td>\n",
       "      <td>18-902</td>\n",
       "      <td>Neumonía (J12-J18)</td>\n",
       "      <td>-36.816576</td>\n",
       "      <td>-73.032147</td>\n",
       "      <td>8.0</td>\n",
       "      <td>1800</td>\n",
       "      <td>171</td>\n",
       "      <td>6</td>\n",
       "      <td>10</td>\n",
       "      <td>8</td>\n",
       "      <td>58</td>\n",
       "      <td>89</td>\n",
       "      <td>9502</td>\n",
       "    </tr>\n",
       "    <tr>\n",
       "      <th>6339</th>\n",
       "      <td>SAR Víctor Manuel Fernández</td>\n",
       "      <td>18-902</td>\n",
       "      <td>Otra causa respiratoria (J22, J30-J39, J47, J6...</td>\n",
       "      <td>-36.816576</td>\n",
       "      <td>-73.032147</td>\n",
       "      <td>8.0</td>\n",
       "      <td>2160</td>\n",
       "      <td>234</td>\n",
       "      <td>1</td>\n",
       "      <td>9</td>\n",
       "      <td>40</td>\n",
       "      <td>135</td>\n",
       "      <td>49</td>\n",
       "      <td>9502</td>\n",
       "    </tr>\n",
       "    <tr>\n",
       "      <th>6340</th>\n",
       "      <td>SAR Víctor Manuel Fernández</td>\n",
       "      <td>18-902</td>\n",
       "      <td>Otras causas circulatorias</td>\n",
       "      <td>-36.816576</td>\n",
       "      <td>-73.032147</td>\n",
       "      <td>8.0</td>\n",
       "      <td>6120</td>\n",
       "      <td>32</td>\n",
       "      <td>0</td>\n",
       "      <td>1</td>\n",
       "      <td>2</td>\n",
       "      <td>13</td>\n",
       "      <td>16</td>\n",
       "      <td>9502</td>\n",
       "    </tr>\n",
       "    <tr>\n",
       "      <th>6341</th>\n",
       "      <td>SAR Víctor Manuel Fernández</td>\n",
       "      <td>18-902</td>\n",
       "      <td>Otras causas externas</td>\n",
       "      <td>-36.816576</td>\n",
       "      <td>-73.032147</td>\n",
       "      <td>8.0</td>\n",
       "      <td>7200</td>\n",
       "      <td>1743</td>\n",
       "      <td>2</td>\n",
       "      <td>74</td>\n",
       "      <td>181</td>\n",
       "      <td>1233</td>\n",
       "      <td>253</td>\n",
       "      <td>9502</td>\n",
       "    </tr>\n",
       "  </tbody>\n",
       "</table>\n",
       "<p>6342 rows × 14 columns</p>\n",
       "</div>"
      ],
      "text/plain": [
       "                         nestablecimiento idestablecimiento  \\\n",
       "0     Centro de Salud  Familiar Laraquete            28-414   \n",
       "1     Centro de Salud  Familiar Laraquete            28-414   \n",
       "2     Centro de Salud  Familiar Laraquete            28-414   \n",
       "3     Centro de Salud  Familiar Laraquete            28-414   \n",
       "4     Centro de Salud  Familiar Laraquete            28-414   \n",
       "...                                   ...               ...   \n",
       "6337          SAR Víctor Manuel Fernández            18-902   \n",
       "6338          SAR Víctor Manuel Fernández            18-902   \n",
       "6339          SAR Víctor Manuel Fernández            18-902   \n",
       "6340          SAR Víctor Manuel Fernández            18-902   \n",
       "6341          SAR Víctor Manuel Fernández            18-902   \n",
       "\n",
       "                                             glosacausa  \\\n",
       "0                         Accidente vascular encefálico   \n",
       "1                               Accidentes del tránsito   \n",
       "2                                        Arritmia grave   \n",
       "3              Bronquitis/bronquiolitis aguda (J20-J21)   \n",
       "4                                   Crisis hipertensiva   \n",
       "...                                                 ...   \n",
       "6337                                Influenza (J09-J11)   \n",
       "6338                                 Neumonía (J12-J18)   \n",
       "6339  Otra causa respiratoria (J22, J30-J39, J47, J6...   \n",
       "6340                         Otras causas circulatorias   \n",
       "6341                              Otras causas externas   \n",
       "\n",
       "      LATITUD      [Grados decimales]  LONGITUD [Grados decimales]  \\\n",
       "0                          -37.167861                   -73.187097   \n",
       "1                          -37.167861                   -73.187097   \n",
       "2                          -37.167861                   -73.187097   \n",
       "3                          -37.167861                   -73.187097   \n",
       "4                          -37.167861                   -73.187097   \n",
       "...                               ...                          ...   \n",
       "6337                       -36.816576                   -73.032147   \n",
       "6338                       -36.816576                   -73.032147   \n",
       "6339                       -36.816576                   -73.032147   \n",
       "6340                       -36.816576                   -73.032147   \n",
       "6341                       -36.816576                   -73.032147   \n",
       "\n",
       "      Código Región  Idcausa  total  Menor a 1 año  De 1 a 4 años  \\\n",
       "0               8.0     5054      3              0              0   \n",
       "1               8.0     6859      0              0              0   \n",
       "2               8.0     5776      1              0              0   \n",
       "3               8.0     1083    219              7             57   \n",
       "4               8.0     5415      0              0              0   \n",
       "...             ...      ...    ...            ...            ...   \n",
       "6337            8.0     1440    219              0             21   \n",
       "6338            8.0     1800    171              6             10   \n",
       "6339            8.0     2160    234              1              9   \n",
       "6340            8.0     6120     32              0              1   \n",
       "6341            8.0     7200   1743              2             74   \n",
       "\n",
       "      De 5 a 14 años  de 15 a 64 años  65 años y más  semana  \n",
       "0                  0                2              1    9585  \n",
       "1                  0                0              0    9585  \n",
       "2                  0                1              0    9585  \n",
       "3                 51               83             21    9585  \n",
       "4                  0                0              0    9585  \n",
       "...              ...              ...            ...     ...  \n",
       "6337              37              140             21    9502  \n",
       "6338               8               58             89    9502  \n",
       "6339              40              135             49    9502  \n",
       "6340               2               13             16    9502  \n",
       "6341             181             1233            253    9502  \n",
       "\n",
       "[6342 rows x 14 columns]"
      ]
     },
     "execution_count": 19,
     "metadata": {},
     "output_type": "execute_result"
    }
   ],
   "source": [
    "resumen_semanal_geo=df3.groupby(by=['nestablecimiento','idestablecimiento','glosacausa','LATITUD      [Grados decimales]','LONGITUD [Grados decimales]','Código Región'],as_index=False).sum()\n",
    "resumen_semanal_geo\n"
   ]
  },
  {
   "cell_type": "code",
   "execution_count": 20,
   "metadata": {},
   "outputs": [
    {
     "data": {
      "application/vnd.plotly.v1+json": {
       "config": {
        "plotlyServerURL": "https://plot.ly"
       },
       "data": [
        {
         "hovertemplate": "<b>%{hovertext}</b><br><br>total=%{marker.color}<br>LATITUD      [Grados decimales]=%{lat}<br>LONGITUD [Grados decimales]=%{lon}<extra></extra>",
         "hovertext": [
          "Centro de Salud Familiar  Chonchi",
          "Centro de Salud Familiar Carmela Carvajal",
          "Centro de Salud Familiar Dalcahue",
          "Centro de Salud Familiar Dr. Marcelo Lopetegui Adams",
          "Centro de Salud Familiar Frutillar Alto",
          "Centro de Salud Familiar Los Muermos",
          "Centro de Salud Familiar Puqueldón",
          "Centro de Salud Familiar Quillahue",
          "Centro de Salud Familiar Río Negro Hornopirén",
          "Centro de Salud Rural Quemchi",
          "Hospital Base de Osorno",
          "Hospital de Achao",
          "Hospital de Ancud",
          "Hospital de Calbuco",
          "Hospital de Castro",
          "Hospital de Fresia",
          "Hospital de Frutillar",
          "Hospital de Futaleufú",
          "Hospital de Llanquihue",
          "Hospital de Maullín",
          "Hospital de Palena",
          "Hospital de Puerto Montt",
          "Hospital de Puerto Octay",
          "Hospital de Purranque",
          "Hospital de Queilén",
          "Hospital de Quellón",
          "Hospital de Río Negro",
          "Posta de Salud Rural Chacao",
          "SAPU Rahue Alto",
          "SAPU-Alerce",
          "SAPU-Angelmó",
          "SAPU-Antonio Varas",
          "SAPU-Dr. Pedro Jáuregui",
          "SAPU-Padre Hurtado",
          "SAR Puerto Varas"
         ],
         "lat": [
          -42.62284,
          -41.468367,
          -42.379216,
          -40.572145,
          -41.129484,
          -41.39882,
          -42.598795,
          -42.460661,
          -41.962714,
          -42.145584,
          -40.5883,
          -42.469562,
          -41.86523,
          -41.769823,
          -42.477043,
          -41.155319,
          -41.138081,
          -43.183387,
          -41.256468,
          -41.616851,
          -43.617898,
          -41.44855,
          -40.972564,
          -40.913644,
          -42.890237,
          -43.115089,
          -40.802425,
          -41.828939,
          -40.591723,
          -41.397673255,
          -41.473429,
          -41.461069,
          -40.572862,
          -41.474835,
          -41.329068
         ],
         "legendgroup": "",
         "lon": [
          -73.777917,
          -72.916568,
          -73.652055,
          -73.124916,
          -73.05945,
          -73.45951,
          -73.676496,
          -73.792591,
          -72.468897,
          -73.479167,
          -73.127785,
          -73.494599,
          -73.823832,
          -73.133167,
          -73.76933,
          -73.422972,
          -73.031515,
          -71.869068,
          -73.010592,
          -73.598474,
          -71.808068,
          -72.957342,
          -72.883184,
          -73.153883,
          -73.473141,
          -73.617061,
          -73.216531,
          -73.52707,
          -73.169948,
          -72.903457331,
          -72.954365,
          -72.929357,
          -73.15809,
          -72.984859,
          -72.969229
         ],
         "marker": {
          "color": [
           19,
           24,
           10,
           3,
           6,
           63,
           2,
           9,
           4,
           0,
           33,
           26,
           137,
           52,
           166,
           63,
           53,
           18,
           46,
           54,
           9,
           432,
           18,
           110,
           22,
           60,
           87,
           1,
           5,
           45,
           10,
           18,
           2,
           51,
           65
          ],
          "coloraxis": "coloraxis",
          "size": [
           19,
           24,
           10,
           3,
           6,
           63,
           2,
           9,
           4,
           0,
           33,
           26,
           137,
           52,
           166,
           63,
           53,
           18,
           46,
           54,
           9,
           432,
           18,
           110,
           22,
           60,
           87,
           1,
           5,
           45,
           10,
           18,
           2,
           51,
           65
          ],
          "sizemode": "area",
          "sizeref": 1.92
         },
         "mode": "markers",
         "name": "",
         "showlegend": false,
         "subplot": "mapbox",
         "type": "scattermapbox"
        }
       ],
       "layout": {
        "coloraxis": {
         "colorbar": {
          "title": {
           "text": "total"
          }
         },
         "colorscale": [
          [
           0,
           "#000000"
          ],
          [
           0.0625,
           "#001f4d"
          ],
          [
           0.125,
           "#003786"
          ],
          [
           0.1875,
           "#0e58a8"
          ],
          [
           0.25,
           "#217eb8"
          ],
          [
           0.3125,
           "#30a4ca"
          ],
          [
           0.375,
           "#54c8df"
          ],
          [
           0.4375,
           "#9be4ef"
          ],
          [
           0.5,
           "#e1e9d1"
          ],
          [
           0.5625,
           "#f3d573"
          ],
          [
           0.625,
           "#e7b000"
          ],
          [
           0.6875,
           "#da8200"
          ],
          [
           0.75,
           "#c65400"
          ],
          [
           0.8125,
           "#ac2301"
          ],
          [
           0.875,
           "#820000"
          ],
          [
           0.9375,
           "#4c0000"
          ],
          [
           1,
           "#000000"
          ]
         ]
        },
        "legend": {
         "itemsizing": "constant",
         "tracegroupgap": 0
        },
        "mapbox": {
         "accesstoken": "pk.eyJ1IjoibXZpbGNoZXNwIiwiYSI6ImNsNzI3Y2NnbjB2a2Qzb212YzFuNDUzbmEifQ.3HfsObdHujRthrYnDCBZUw",
         "center": {
          "lat": -41.71853415014285,
          "lon": -73.18269960945713
         },
         "domain": {
          "x": [
           0,
           1
          ],
          "y": [
           0,
           1
          ]
         },
         "zoom": 6
        },
        "margin": {
         "t": 60
        },
        "template": {
         "data": {
          "bar": [
           {
            "error_x": {
             "color": "#2a3f5f"
            },
            "error_y": {
             "color": "#2a3f5f"
            },
            "marker": {
             "line": {
              "color": "#E5ECF6",
              "width": 0.5
             },
             "pattern": {
              "fillmode": "overlay",
              "size": 10,
              "solidity": 0.2
             }
            },
            "type": "bar"
           }
          ],
          "barpolar": [
           {
            "marker": {
             "line": {
              "color": "#E5ECF6",
              "width": 0.5
             },
             "pattern": {
              "fillmode": "overlay",
              "size": 10,
              "solidity": 0.2
             }
            },
            "type": "barpolar"
           }
          ],
          "carpet": [
           {
            "aaxis": {
             "endlinecolor": "#2a3f5f",
             "gridcolor": "white",
             "linecolor": "white",
             "minorgridcolor": "white",
             "startlinecolor": "#2a3f5f"
            },
            "baxis": {
             "endlinecolor": "#2a3f5f",
             "gridcolor": "white",
             "linecolor": "white",
             "minorgridcolor": "white",
             "startlinecolor": "#2a3f5f"
            },
            "type": "carpet"
           }
          ],
          "choropleth": [
           {
            "colorbar": {
             "outlinewidth": 0,
             "ticks": ""
            },
            "type": "choropleth"
           }
          ],
          "contour": [
           {
            "colorbar": {
             "outlinewidth": 0,
             "ticks": ""
            },
            "colorscale": [
             [
              0,
              "#0d0887"
             ],
             [
              0.1111111111111111,
              "#46039f"
             ],
             [
              0.2222222222222222,
              "#7201a8"
             ],
             [
              0.3333333333333333,
              "#9c179e"
             ],
             [
              0.4444444444444444,
              "#bd3786"
             ],
             [
              0.5555555555555556,
              "#d8576b"
             ],
             [
              0.6666666666666666,
              "#ed7953"
             ],
             [
              0.7777777777777778,
              "#fb9f3a"
             ],
             [
              0.8888888888888888,
              "#fdca26"
             ],
             [
              1,
              "#f0f921"
             ]
            ],
            "type": "contour"
           }
          ],
          "contourcarpet": [
           {
            "colorbar": {
             "outlinewidth": 0,
             "ticks": ""
            },
            "type": "contourcarpet"
           }
          ],
          "heatmap": [
           {
            "colorbar": {
             "outlinewidth": 0,
             "ticks": ""
            },
            "colorscale": [
             [
              0,
              "#0d0887"
             ],
             [
              0.1111111111111111,
              "#46039f"
             ],
             [
              0.2222222222222222,
              "#7201a8"
             ],
             [
              0.3333333333333333,
              "#9c179e"
             ],
             [
              0.4444444444444444,
              "#bd3786"
             ],
             [
              0.5555555555555556,
              "#d8576b"
             ],
             [
              0.6666666666666666,
              "#ed7953"
             ],
             [
              0.7777777777777778,
              "#fb9f3a"
             ],
             [
              0.8888888888888888,
              "#fdca26"
             ],
             [
              1,
              "#f0f921"
             ]
            ],
            "type": "heatmap"
           }
          ],
          "heatmapgl": [
           {
            "colorbar": {
             "outlinewidth": 0,
             "ticks": ""
            },
            "colorscale": [
             [
              0,
              "#0d0887"
             ],
             [
              0.1111111111111111,
              "#46039f"
             ],
             [
              0.2222222222222222,
              "#7201a8"
             ],
             [
              0.3333333333333333,
              "#9c179e"
             ],
             [
              0.4444444444444444,
              "#bd3786"
             ],
             [
              0.5555555555555556,
              "#d8576b"
             ],
             [
              0.6666666666666666,
              "#ed7953"
             ],
             [
              0.7777777777777778,
              "#fb9f3a"
             ],
             [
              0.8888888888888888,
              "#fdca26"
             ],
             [
              1,
              "#f0f921"
             ]
            ],
            "type": "heatmapgl"
           }
          ],
          "histogram": [
           {
            "marker": {
             "pattern": {
              "fillmode": "overlay",
              "size": 10,
              "solidity": 0.2
             }
            },
            "type": "histogram"
           }
          ],
          "histogram2d": [
           {
            "colorbar": {
             "outlinewidth": 0,
             "ticks": ""
            },
            "colorscale": [
             [
              0,
              "#0d0887"
             ],
             [
              0.1111111111111111,
              "#46039f"
             ],
             [
              0.2222222222222222,
              "#7201a8"
             ],
             [
              0.3333333333333333,
              "#9c179e"
             ],
             [
              0.4444444444444444,
              "#bd3786"
             ],
             [
              0.5555555555555556,
              "#d8576b"
             ],
             [
              0.6666666666666666,
              "#ed7953"
             ],
             [
              0.7777777777777778,
              "#fb9f3a"
             ],
             [
              0.8888888888888888,
              "#fdca26"
             ],
             [
              1,
              "#f0f921"
             ]
            ],
            "type": "histogram2d"
           }
          ],
          "histogram2dcontour": [
           {
            "colorbar": {
             "outlinewidth": 0,
             "ticks": ""
            },
            "colorscale": [
             [
              0,
              "#0d0887"
             ],
             [
              0.1111111111111111,
              "#46039f"
             ],
             [
              0.2222222222222222,
              "#7201a8"
             ],
             [
              0.3333333333333333,
              "#9c179e"
             ],
             [
              0.4444444444444444,
              "#bd3786"
             ],
             [
              0.5555555555555556,
              "#d8576b"
             ],
             [
              0.6666666666666666,
              "#ed7953"
             ],
             [
              0.7777777777777778,
              "#fb9f3a"
             ],
             [
              0.8888888888888888,
              "#fdca26"
             ],
             [
              1,
              "#f0f921"
             ]
            ],
            "type": "histogram2dcontour"
           }
          ],
          "mesh3d": [
           {
            "colorbar": {
             "outlinewidth": 0,
             "ticks": ""
            },
            "type": "mesh3d"
           }
          ],
          "parcoords": [
           {
            "line": {
             "colorbar": {
              "outlinewidth": 0,
              "ticks": ""
             }
            },
            "type": "parcoords"
           }
          ],
          "pie": [
           {
            "automargin": true,
            "type": "pie"
           }
          ],
          "scatter": [
           {
            "marker": {
             "colorbar": {
              "outlinewidth": 0,
              "ticks": ""
             }
            },
            "type": "scatter"
           }
          ],
          "scatter3d": [
           {
            "line": {
             "colorbar": {
              "outlinewidth": 0,
              "ticks": ""
             }
            },
            "marker": {
             "colorbar": {
              "outlinewidth": 0,
              "ticks": ""
             }
            },
            "type": "scatter3d"
           }
          ],
          "scattercarpet": [
           {
            "marker": {
             "colorbar": {
              "outlinewidth": 0,
              "ticks": ""
             }
            },
            "type": "scattercarpet"
           }
          ],
          "scattergeo": [
           {
            "marker": {
             "colorbar": {
              "outlinewidth": 0,
              "ticks": ""
             }
            },
            "type": "scattergeo"
           }
          ],
          "scattergl": [
           {
            "marker": {
             "colorbar": {
              "outlinewidth": 0,
              "ticks": ""
             }
            },
            "type": "scattergl"
           }
          ],
          "scattermapbox": [
           {
            "marker": {
             "colorbar": {
              "outlinewidth": 0,
              "ticks": ""
             }
            },
            "type": "scattermapbox"
           }
          ],
          "scatterpolar": [
           {
            "marker": {
             "colorbar": {
              "outlinewidth": 0,
              "ticks": ""
             }
            },
            "type": "scatterpolar"
           }
          ],
          "scatterpolargl": [
           {
            "marker": {
             "colorbar": {
              "outlinewidth": 0,
              "ticks": ""
             }
            },
            "type": "scatterpolargl"
           }
          ],
          "scatterternary": [
           {
            "marker": {
             "colorbar": {
              "outlinewidth": 0,
              "ticks": ""
             }
            },
            "type": "scatterternary"
           }
          ],
          "surface": [
           {
            "colorbar": {
             "outlinewidth": 0,
             "ticks": ""
            },
            "colorscale": [
             [
              0,
              "#0d0887"
             ],
             [
              0.1111111111111111,
              "#46039f"
             ],
             [
              0.2222222222222222,
              "#7201a8"
             ],
             [
              0.3333333333333333,
              "#9c179e"
             ],
             [
              0.4444444444444444,
              "#bd3786"
             ],
             [
              0.5555555555555556,
              "#d8576b"
             ],
             [
              0.6666666666666666,
              "#ed7953"
             ],
             [
              0.7777777777777778,
              "#fb9f3a"
             ],
             [
              0.8888888888888888,
              "#fdca26"
             ],
             [
              1,
              "#f0f921"
             ]
            ],
            "type": "surface"
           }
          ],
          "table": [
           {
            "cells": {
             "fill": {
              "color": "#EBF0F8"
             },
             "line": {
              "color": "white"
             }
            },
            "header": {
             "fill": {
              "color": "#C8D4E3"
             },
             "line": {
              "color": "white"
             }
            },
            "type": "table"
           }
          ]
         },
         "layout": {
          "annotationdefaults": {
           "arrowcolor": "#2a3f5f",
           "arrowhead": 0,
           "arrowwidth": 1
          },
          "autotypenumbers": "strict",
          "coloraxis": {
           "colorbar": {
            "outlinewidth": 0,
            "ticks": ""
           }
          },
          "colorscale": {
           "diverging": [
            [
             0,
             "#8e0152"
            ],
            [
             0.1,
             "#c51b7d"
            ],
            [
             0.2,
             "#de77ae"
            ],
            [
             0.3,
             "#f1b6da"
            ],
            [
             0.4,
             "#fde0ef"
            ],
            [
             0.5,
             "#f7f7f7"
            ],
            [
             0.6,
             "#e6f5d0"
            ],
            [
             0.7,
             "#b8e186"
            ],
            [
             0.8,
             "#7fbc41"
            ],
            [
             0.9,
             "#4d9221"
            ],
            [
             1,
             "#276419"
            ]
           ],
           "sequential": [
            [
             0,
             "#0d0887"
            ],
            [
             0.1111111111111111,
             "#46039f"
            ],
            [
             0.2222222222222222,
             "#7201a8"
            ],
            [
             0.3333333333333333,
             "#9c179e"
            ],
            [
             0.4444444444444444,
             "#bd3786"
            ],
            [
             0.5555555555555556,
             "#d8576b"
            ],
            [
             0.6666666666666666,
             "#ed7953"
            ],
            [
             0.7777777777777778,
             "#fb9f3a"
            ],
            [
             0.8888888888888888,
             "#fdca26"
            ],
            [
             1,
             "#f0f921"
            ]
           ],
           "sequentialminus": [
            [
             0,
             "#0d0887"
            ],
            [
             0.1111111111111111,
             "#46039f"
            ],
            [
             0.2222222222222222,
             "#7201a8"
            ],
            [
             0.3333333333333333,
             "#9c179e"
            ],
            [
             0.4444444444444444,
             "#bd3786"
            ],
            [
             0.5555555555555556,
             "#d8576b"
            ],
            [
             0.6666666666666666,
             "#ed7953"
            ],
            [
             0.7777777777777778,
             "#fb9f3a"
            ],
            [
             0.8888888888888888,
             "#fdca26"
            ],
            [
             1,
             "#f0f921"
            ]
           ]
          },
          "colorway": [
           "#636efa",
           "#EF553B",
           "#00cc96",
           "#ab63fa",
           "#FFA15A",
           "#19d3f3",
           "#FF6692",
           "#B6E880",
           "#FF97FF",
           "#FECB52"
          ],
          "font": {
           "color": "#2a3f5f"
          },
          "geo": {
           "bgcolor": "white",
           "lakecolor": "white",
           "landcolor": "#E5ECF6",
           "showlakes": true,
           "showland": true,
           "subunitcolor": "white"
          },
          "hoverlabel": {
           "align": "left"
          },
          "hovermode": "closest",
          "mapbox": {
           "style": "light"
          },
          "paper_bgcolor": "white",
          "plot_bgcolor": "#E5ECF6",
          "polar": {
           "angularaxis": {
            "gridcolor": "white",
            "linecolor": "white",
            "ticks": ""
           },
           "bgcolor": "#E5ECF6",
           "radialaxis": {
            "gridcolor": "white",
            "linecolor": "white",
            "ticks": ""
           }
          },
          "scene": {
           "xaxis": {
            "backgroundcolor": "#E5ECF6",
            "gridcolor": "white",
            "gridwidth": 2,
            "linecolor": "white",
            "showbackground": true,
            "ticks": "",
            "zerolinecolor": "white"
           },
           "yaxis": {
            "backgroundcolor": "#E5ECF6",
            "gridcolor": "white",
            "gridwidth": 2,
            "linecolor": "white",
            "showbackground": true,
            "ticks": "",
            "zerolinecolor": "white"
           },
           "zaxis": {
            "backgroundcolor": "#E5ECF6",
            "gridcolor": "white",
            "gridwidth": 2,
            "linecolor": "white",
            "showbackground": true,
            "ticks": "",
            "zerolinecolor": "white"
           }
          },
          "shapedefaults": {
           "line": {
            "color": "#2a3f5f"
           }
          },
          "ternary": {
           "aaxis": {
            "gridcolor": "white",
            "linecolor": "white",
            "ticks": ""
           },
           "baxis": {
            "gridcolor": "white",
            "linecolor": "white",
            "ticks": ""
           },
           "bgcolor": "#E5ECF6",
           "caxis": {
            "gridcolor": "white",
            "linecolor": "white",
            "ticks": ""
           }
          },
          "title": {
           "x": 0.05
          },
          "xaxis": {
           "automargin": true,
           "gridcolor": "white",
           "linecolor": "white",
           "ticks": "",
           "title": {
            "standoff": 15
           },
           "zerolinecolor": "white",
           "zerolinewidth": 2
          },
          "yaxis": {
           "automargin": true,
           "gridcolor": "white",
           "linecolor": "white",
           "ticks": "",
           "title": {
            "standoff": 15
           },
           "zerolinecolor": "white",
           "zerolinewidth": 2
          }
         }
        }
       }
      }
     },
     "metadata": {},
     "output_type": "display_data"
    }
   ],
   "source": [
    "def get_mapa(data,columna,filtro,columna2,filtro2,lat,lon,color,size,hover,zoom):\n",
    "    px.set_mapbox_access_token('pk.eyJ1IjoibXZpbGNoZXNwIiwiYSI6ImNsNzI3Y2NnbjB2a2Qzb212YzFuNDUzbmEifQ.3HfsObdHujRthrYnDCBZUw')\n",
    "    fig = px.scatter_mapbox(data[(data[columna] == filtro) & (data[columna2] == filtro2)], lat=lat, lon=lon, color=color, size=size,\n",
    "                  color_continuous_scale=px.colors.cyclical.IceFire, size_max=15, zoom=zoom, hover_name=hover)\n",
    "    return fig\n",
    "get_mapa(resumen_semanal_geo,\"Código Región\",10,\"glosacausa\",\"Arritmia grave\",'LATITUD      [Grados decimales]',\n",
    "       'LONGITUD [Grados decimales]','total','total','nestablecimiento',6)"
   ]
  },
  {
   "cell_type": "code",
   "execution_count": 21,
   "metadata": {},
   "outputs": [
    {
     "data": {
      "text/html": [
       "<div>\n",
       "<style scoped>\n",
       "    .dataframe tbody tr th:only-of-type {\n",
       "        vertical-align: middle;\n",
       "    }\n",
       "\n",
       "    .dataframe tbody tr th {\n",
       "        vertical-align: top;\n",
       "    }\n",
       "\n",
       "    .dataframe thead th {\n",
       "        text-align: right;\n",
       "    }\n",
       "</style>\n",
       "<table border=\"1\" class=\"dataframe\">\n",
       "  <thead>\n",
       "    <tr style=\"text-align: right;\">\n",
       "      <th></th>\n",
       "      <th>nestablecimiento</th>\n",
       "      <th>idestablecimiento</th>\n",
       "      <th>glosacausa</th>\n",
       "      <th>LATITUD      [Grados decimales]</th>\n",
       "      <th>LONGITUD [Grados decimales]</th>\n",
       "      <th>Código Región</th>\n",
       "      <th>Idcausa</th>\n",
       "      <th>total</th>\n",
       "      <th>Menor a 1 año</th>\n",
       "      <th>De 1 a 4 años</th>\n",
       "      <th>De 5 a 14 años</th>\n",
       "      <th>de 15 a 64 años</th>\n",
       "      <th>65 años y más</th>\n",
       "      <th>semana</th>\n",
       "    </tr>\n",
       "  </thead>\n",
       "  <tbody>\n",
       "  </tbody>\n",
       "</table>\n",
       "</div>"
      ],
      "text/plain": [
       "Empty DataFrame\n",
       "Columns: [nestablecimiento, idestablecimiento, glosacausa, LATITUD      [Grados decimales], LONGITUD [Grados decimales], Código Región, Idcausa, total, Menor a 1 año, De 1 a 4 años, De 5 a 14 años, de 15 a 64 años, 65 años y más, semana]\n",
       "Index: []"
      ]
     },
     "execution_count": 21,
     "metadata": {},
     "output_type": "execute_result"
    }
   ],
   "source": [
    "resumen_semanal_geo[(resumen_semanal_geo.glosacausa == 'TOTAL DEMÁS CAUSAS')&(resumen_semanal_geo.nestablecimiento == 'SAPU-Artificio')]"
   ]
  },
  {
   "cell_type": "code",
   "execution_count": 22,
   "metadata": {},
   "outputs": [
    {
     "data": {
      "text/plain": [
       "array(['TOTAL CAUSAS SISTEMA CIRCULATORIO', 'Neumonía (J12-J18)',\n",
       "       'TOTAL DEMÁS CAUSAS', 'TOTAL CAUSAS SISTEMA RESPIRATORIO',\n",
       "       'Accidentes del tránsito', 'DIARREA AGUDA (A00-A09)',\n",
       "       'Otra causa respiratoria (J22, J30-J39, J47, J60-J98)',\n",
       "       'Bronquitis/bronquiolitis aguda (J20-J21)',\n",
       "       'SECCIÓN 1. TOTAL ATENCIONES DE URGENCIA',\n",
       "       'Accidente vascular encefálico', 'Otras causas externas',\n",
       "       'Infarto agudo miocardio',\n",
       "       'Crisis obstructiva bronquial (J40-J46)', 'IRA Alta (J00-J06)',\n",
       "       'Influenza (J09-J11)', 'Crisis hipertensiva', 'Arritmia grave',\n",
       "       'Otras causas circulatorias',\n",
       "       'TOTAL TRAUMATISMOS Y ENVENENAMIENTO'], dtype=object)"
      ]
     },
     "execution_count": 22,
     "metadata": {},
     "output_type": "execute_result"
    }
   ],
   "source": [
    "df.glosacausa.unique()\n",
    "\n"
   ]
  },
  {
   "cell_type": "code",
   "execution_count": 23,
   "metadata": {},
   "outputs": [
    {
     "name": "stdout",
     "output_type": "stream",
     "text": [
      "<class 'pandas.core.frame.DataFrame'>\n",
      "Int64Index: 3158870 entries, 0 to 4488934\n",
      "Data columns (total 15 columns):\n",
      " #   Column                    Dtype \n",
      "---  ------                    ----- \n",
      " 0   idestablecimiento         object\n",
      " 1   nestablecimiento          object\n",
      " 2   Idcausa                   int64 \n",
      " 3   glosacausa                object\n",
      " 4   Col01                     int64 \n",
      " 5   Col02                     int64 \n",
      " 6   Col03                     int64 \n",
      " 7   Col04                     int64 \n",
      " 8   Col05                     int64 \n",
      " 9   Col06                     int64 \n",
      " 10  fecha                     object\n",
      " 11  semana                    int64 \n",
      " 12  GLOSATIPOESTABLECIMIENTO  object\n",
      " 13  GLOSATIPOATENCION         object\n",
      " 14  GlosaTipoCampana          object\n",
      "dtypes: int64(8), object(7)\n",
      "memory usage: 385.6+ MB\n",
      "<class 'pandas.core.frame.DataFrame'>\n",
      "RangeIndex: 6342 entries, 0 to 6341\n",
      "Data columns (total 14 columns):\n",
      " #   Column                           Non-Null Count  Dtype  \n",
      "---  ------                           --------------  -----  \n",
      " 0   nestablecimiento                 6342 non-null   object \n",
      " 1   idestablecimiento                6342 non-null   object \n",
      " 2   glosacausa                       6342 non-null   object \n",
      " 3   LATITUD      [Grados decimales]  6342 non-null   float64\n",
      " 4   LONGITUD [Grados decimales]      6342 non-null   float64\n",
      " 5   Código Región                    6342 non-null   float64\n",
      " 6   Idcausa                          6342 non-null   int64  \n",
      " 7   total                            6342 non-null   int64  \n",
      " 8   Menor a 1 año                    6342 non-null   int64  \n",
      " 9   De 1 a 4 años                    6342 non-null   int64  \n",
      " 10  De 5 a 14 años                   6342 non-null   int64  \n",
      " 11  de 15 a 64 años                  6342 non-null   int64  \n",
      " 12  65 años y más                    6342 non-null   int64  \n",
      " 13  semana                           6342 non-null   int64  \n",
      "dtypes: float64(3), int64(8), object(3)\n",
      "memory usage: 693.8+ KB\n"
     ]
    }
   ],
   "source": [
    "df.info()\n",
    "resumen_semanal_geo.info()"
   ]
  },
  {
   "cell_type": "code",
   "execution_count": 24,
   "metadata": {},
   "outputs": [
    {
     "data": {
      "text/plain": [
       "['\\xa0- LAS DEMÁS CAUSAS',\n",
       " 'Pacientes en espera de hospitalización que esperan menos de 12 horas para ser trasladados a cama hospitalaria',\n",
       " 'CAUSAS SISTEMA RESPIRATORIO',\n",
       " '\\xa0- TRAUMATISMOS Y ENVENENAMIENTOS',\n",
       " 'SECCIÓN 2. TOTAL DE HOSPITALIZACIONES',\n",
       " 'CIRUGÍAS DE URGENCIA',\n",
       " 'Pacientes en espera de hospitalización']"
      ]
     },
     "execution_count": 24,
     "metadata": {},
     "output_type": "execute_result"
    }
   ],
   "source": [
    "\n",
    "       ['\\xa0- LAS DEMÁS CAUSAS',\n",
    "       'Pacientes en espera de hospitalización que esperan menos de 12 horas para ser trasladados a cama hospitalaria',\n",
    "       'CAUSAS SISTEMA RESPIRATORIO',\n",
    "       '\\xa0- TRAUMATISMOS Y ENVENENAMIENTOS',\n",
    "       'SECCIÓN 2. TOTAL DE HOSPITALIZACIONES', 'CIRUGÍAS DE URGENCIA', 'Pacientes en espera de hospitalización']"
   ]
  }
 ],
 "metadata": {
  "kernelspec": {
   "display_name": "Python 3.9.12 ('base')",
   "language": "python",
   "name": "python3"
  },
  "language_info": {
   "codemirror_mode": {
    "name": "ipython",
    "version": 3
   },
   "file_extension": ".py",
   "mimetype": "text/x-python",
   "name": "python",
   "nbconvert_exporter": "python",
   "pygments_lexer": "ipython3",
   "version": "3.9.12"
  },
  "orig_nbformat": 4,
  "vscode": {
   "interpreter": {
    "hash": "d33b9b6b2b93e762d3fe9d9dc88e484525a6b99005f1079a1e12fb908a9da7c7"
   }
  }
 },
 "nbformat": 4,
 "nbformat_minor": 2
}
